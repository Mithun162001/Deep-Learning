{
 "cells": [
  {
   "cell_type": "markdown",
   "metadata": {},
   "source": [
    "<h1>To understand how graphs works in Tensorflow</h1>"
   ]
  },
  {
   "cell_type": "markdown",
   "metadata": {},
   "source": [
    "* Graphs are sets of connected nodes(vertices) <br>\n",
    "* The connections are referred to as edges.\n",
    "* In general, with TensorFlow we will construct a graph and then execute them"
   ]
  },
  {
   "cell_type": "code",
   "execution_count": 1,
   "metadata": {},
   "outputs": [],
   "source": [
    "import tensorflow as tf"
   ]
  },
  {
   "cell_type": "code",
   "execution_count": 2,
   "metadata": {},
   "outputs": [],
   "source": [
    "# creating nodes \n",
    "\n",
    "n1 = tf.constant(1)\n",
    "n2 = tf.constant(2)"
   ]
  },
  {
   "cell_type": "code",
   "execution_count": 3,
   "metadata": {},
   "outputs": [
    {
     "name": "stdout",
     "output_type": "stream",
     "text": [
      "tf.Tensor(1, shape=(), dtype=int32)\n",
      "tf.Tensor(2, shape=(), dtype=int32)\n"
     ]
    }
   ],
   "source": [
    "print(n1)\n",
    "print(n2)"
   ]
  },
  {
   "cell_type": "code",
   "execution_count": 5,
   "metadata": {},
   "outputs": [
    {
     "name": "stdout",
     "output_type": "stream",
     "text": [
      "The constant present in node 1:  1\n",
      "The constant present in node 2:  2\n"
     ]
    }
   ],
   "source": [
    "tf.print(\"The constant present in node 1: \", n1)\n",
    "tf.print(\"The constant present in node 2: \", n2)"
   ]
  },
  {
   "cell_type": "code",
   "execution_count": 6,
   "metadata": {},
   "outputs": [
    {
     "name": "stdout",
     "output_type": "stream",
     "text": [
      "tf.Tensor(3, shape=(), dtype=int32)\n",
      "The sum of the constants present in nodes n1 and n2:  3\n"
     ]
    }
   ],
   "source": [
    "# now let's summing up these 2 constants\n",
    "result = n1 + n2\n",
    "print(result)\n",
    "print(\"The sum of the constants present in nodes n1 and n2: \", result.numpy())"
   ]
  },
  {
   "cell_type": "markdown",
   "metadata": {},
   "source": [
    "* When we start a TensorFlow, a default graph is created and you can actually create additional graphs"
   ]
  },
  {
   "cell_type": "code",
   "execution_count": 8,
   "metadata": {},
   "outputs": [
    {
     "name": "stdout",
     "output_type": "stream",
     "text": [
      "<tensorflow.python.framework.ops.Graph object at 0x000001CF8E832550>\n"
     ]
    }
   ],
   "source": [
    "print(tf.compat.v1.get_default_graph())\n",
    "\n",
    "# returns the address and type of the current graph tensorflow has created "
   ]
  },
  {
   "cell_type": "code",
   "execution_count": 9,
   "metadata": {},
   "outputs": [
    {
     "name": "stdout",
     "output_type": "stream",
     "text": [
      "<tensorflow.python.framework.ops.Graph object at 0x000001CF8E832610>\n"
     ]
    }
   ],
   "source": [
    "g = tf.Graph()  # this creates a new graph\n",
    "print(g)        # but this isn't the default graph yet"
   ]
  },
  {
   "cell_type": "markdown",
   "metadata": {},
   "source": [
    "<h4>To make the graph as default we use as_default() method</h4>"
   ]
  },
  {
   "cell_type": "code",
   "execution_count": 15,
   "metadata": {},
   "outputs": [
    {
     "name": "stdout",
     "output_type": "stream",
     "text": [
      "<tensorflow.python.framework.ops.Graph object at 0x000001CF8E832610>\n"
     ]
    }
   ],
   "source": [
    "with g.as_default():\n",
    "    g is tf.compat.v1.get_default_graph()\n",
    "    print(tf.compat.v1.get_default_graph())"
   ]
  }
 ],
 "metadata": {
  "interpreter": {
   "hash": "69eb92836b941e979072a76c7fcfffe5419cca933cedd02cfafbdfca1a93358c"
  },
  "kernelspec": {
   "display_name": "Python 3.9.10 64-bit",
   "language": "python",
   "name": "python3"
  },
  "language_info": {
   "codemirror_mode": {
    "name": "ipython",
    "version": 3
   },
   "file_extension": ".py",
   "mimetype": "text/x-python",
   "name": "python",
   "nbconvert_exporter": "python",
   "pygments_lexer": "ipython3",
   "version": "3.9.10"
  },
  "orig_nbformat": 4
 },
 "nbformat": 4,
 "nbformat_minor": 2
}
