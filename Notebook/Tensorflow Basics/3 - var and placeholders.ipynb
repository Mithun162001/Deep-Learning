{
 "cells": [
  {
   "cell_type": "markdown",
   "metadata": {},
   "source": [
    "<h1>To understand variables and placeholders in TensorFlow</h1>"
   ]
  },
  {
   "cell_type": "markdown",
   "metadata": {},
   "source": [
    "There are mainly two types of tensor objects in a Graph:-\n",
    "- variables\n",
    "- placeholders"
   ]
  },
  {
   "cell_type": "markdown",
   "metadata": {},
   "source": [
    "- During the optimisation process, Tensorflow tunes the parameters of the model\n",
    "- So, variables can hold the values of weights and biases throught this entire process\n",
    "- Varibales are need to be initialized"
   ]
  },
  {
   "cell_type": "markdown",
   "metadata": {},
   "source": [
    "- Placeholders are intially empty and are used to feed in the actual training examples\n",
    "- They do need a declared expected datatype(say for example: tf.float32) with an optional shape argument"
   ]
  },
  {
   "cell_type": "code",
   "execution_count": 1,
   "metadata": {},
   "outputs": [],
   "source": [
    "import tensorflow as tf"
   ]
  },
  {
   "cell_type": "code",
   "execution_count": 3,
   "metadata": {},
   "outputs": [
    {
     "name": "stdout",
     "output_type": "stream",
     "text": [
      "[[0.22376823 0.7145568  0.6332419  0.3550743 ]\n",
      " [0.8788898  0.26625884 0.49471784 0.4725932 ]\n",
      " [0.61191833 0.39249063 0.6998024  0.2763716 ]\n",
      " [0.49154198 0.65740764 0.7401873  0.91014576]]\n"
     ]
    }
   ],
   "source": [
    "# creating a tensor\n",
    "\n",
    "my_tensor = tf.random.uniform((4,4), 0, 1)\n",
    "print(my_tensor.numpy())"
   ]
  },
  {
   "cell_type": "code",
   "execution_count": 5,
   "metadata": {},
   "outputs": [
    {
     "name": "stdout",
     "output_type": "stream",
     "text": [
      "<tf.Variable 'Variable:0' shape=(4, 4) dtype=float32, numpy=\n",
      "array([[0.22376823, 0.7145568 , 0.6332419 , 0.3550743 ],\n",
      "       [0.8788898 , 0.26625884, 0.49471784, 0.4725932 ],\n",
      "       [0.61191833, 0.39249063, 0.6998024 , 0.2763716 ],\n",
      "       [0.49154198, 0.65740764, 0.7401873 , 0.91014576]], dtype=float32)>\n"
     ]
    }
   ],
   "source": [
    "# creating a variable\n",
    "\n",
    "my_var = tf.Variable(initial_value=my_tensor)   # variables are always initialized\n",
    "print(my_var)"
   ]
  },
  {
   "cell_type": "markdown",
   "metadata": {},
   "source": [
    "- In TF2, you can just pass tensors directly into ops and layers.\n",
    "- So, there is no need to create a placeholder separately\n",
    "- tf.placeholder() from compat.v1 is also not compatible with eager execution"
   ]
  }
 ],
 "metadata": {
  "interpreter": {
   "hash": "69eb92836b941e979072a76c7fcfffe5419cca933cedd02cfafbdfca1a93358c"
  },
  "kernelspec": {
   "display_name": "Python 3.9.10 64-bit",
   "language": "python",
   "name": "python3"
  },
  "language_info": {
   "codemirror_mode": {
    "name": "ipython",
    "version": 3
   },
   "file_extension": ".py",
   "mimetype": "text/x-python",
   "name": "python",
   "nbconvert_exporter": "python",
   "pygments_lexer": "ipython3",
   "version": "3.9.10"
  },
  "orig_nbformat": 4
 },
 "nbformat": 4,
 "nbformat_minor": 2
}
