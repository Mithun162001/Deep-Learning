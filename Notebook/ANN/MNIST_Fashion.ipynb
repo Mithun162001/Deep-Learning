{
  "nbformat": 4,
  "nbformat_minor": 0,
  "metadata": {
    "colab": {
      "name": "MNIST Fashion.ipynb",
      "provenance": [],
      "collapsed_sections": []
    },
    "kernelspec": {
      "name": "python3",
      "display_name": "Python 3"
    },
    "language_info": {
      "name": "python"
    },
    "accelerator": "GPU"
  },
  "cells": [
    {
      "cell_type": "code",
      "execution_count": null,
      "metadata": {
        "id": "tYp3Cr-iQZUq"
      },
      "outputs": [],
      "source": [
        "import numpy as np\n",
        "import pandas as pd\n",
        "import seaborn as sns\n",
        "import matplotlib.pyplot as plt\n",
        "import tensorflow as tf\n",
        "from tensorflow import keras"
      ]
    },
    {
      "cell_type": "code",
      "source": [
        "tf.__version__"
      ],
      "metadata": {
        "colab": {
          "base_uri": "https://localhost:8080/",
          "height": 35
        },
        "id": "ssL3P9L7Q4pk",
        "outputId": "be2af0d5-fc00-4eee-906f-d9812dd23b9b"
      },
      "execution_count": null,
      "outputs": [
        {
          "output_type": "execute_result",
          "data": {
            "application/vnd.google.colaboratory.intrinsic+json": {
              "type": "string"
            },
            "text/plain": [
              "'2.7.0'"
            ]
          },
          "metadata": {},
          "execution_count": 2
        }
      ]
    },
    {
      "cell_type": "code",
      "source": [
        "keras.__version__"
      ],
      "metadata": {
        "colab": {
          "base_uri": "https://localhost:8080/",
          "height": 35
        },
        "id": "dvtJEP52Q84R",
        "outputId": "b5786b1a-0cee-4854-de72-cdafcd2d349d"
      },
      "execution_count": null,
      "outputs": [
        {
          "output_type": "execute_result",
          "data": {
            "application/vnd.google.colaboratory.intrinsic+json": {
              "type": "string"
            },
            "text/plain": [
              "'2.7.0'"
            ]
          },
          "metadata": {},
          "execution_count": 3
        }
      ]
    },
    {
      "cell_type": "code",
      "source": [
        "fashion_mnist = keras.datasets.fashion_mnist\n",
        "(X_train_full, y_train_full), (X_test,y_test) = fashion_mnist.load_data()"
      ],
      "metadata": {
        "id": "kgc-Nj9FQ-md"
      },
      "execution_count": null,
      "outputs": []
    },
    {
      "cell_type": "code",
      "source": [
        "print(\"Shape of the training set of features: \",X_train_full.shape)\n",
        "print(\"Shape of the training set of target: \",y_train_full.shape)\n",
        "print(\"Shape of the testing set of features: \",X_test.shape)\n",
        "print(\"Shape of the testing set of target: \",y_test.shape)"
      ],
      "metadata": {
        "colab": {
          "base_uri": "https://localhost:8080/"
        },
        "id": "3X8jBim9RTzk",
        "outputId": "99c5fb63-797f-4584-fa8f-9aa228a0a15a"
      },
      "execution_count": null,
      "outputs": [
        {
          "output_type": "stream",
          "name": "stdout",
          "text": [
            "Shape of the training set of features:  (60000, 28, 28)\n",
            "Shape of the training set of target:  (60000,)\n",
            "Shape of the testing set of features:  (10000, 28, 28)\n",
            "Shape of the testing set of target:  (10000,)\n"
          ]
        }
      ]
    },
    {
      "cell_type": "code",
      "source": [
        "X_train_full.dtype"
      ],
      "metadata": {
        "colab": {
          "base_uri": "https://localhost:8080/"
        },
        "id": "Yemi7O2TR5Wv",
        "outputId": "a12f8743-aef9-428c-ee4a-2cfe9fb2d6f4"
      },
      "execution_count": null,
      "outputs": [
        {
          "output_type": "execute_result",
          "data": {
            "text/plain": [
              "dtype('uint8')"
            ]
          },
          "metadata": {},
          "execution_count": 21
        }
      ]
    },
    {
      "cell_type": "code",
      "source": [
        "# we see that dataset is already divided into training and testing set but we don't have validation set\n",
        "# We must scale the input features, we just scale the pixel intensities down to 0 to 1 range by dividing them by 255.0\n",
        "\n",
        "X_valid, X_train = X_train_full[:5000] / 255.0, X_train_full[5000:] / 255.0\n",
        "y_valid, y_train = y_train_full[:5000], y_train_full[5000:]"
      ],
      "metadata": {
        "id": "m66io2u1R7St"
      },
      "execution_count": null,
      "outputs": []
    },
    {
      "cell_type": "code",
      "source": [
        "X_train.shape"
      ],
      "metadata": {
        "colab": {
          "base_uri": "https://localhost:8080/"
        },
        "id": "x8UFNP3Ferst",
        "outputId": "0ccb895c-f9fc-41a8-bb7a-c34f71a5148d"
      },
      "execution_count": null,
      "outputs": [
        {
          "output_type": "execute_result",
          "data": {
            "text/plain": [
              "(55000, 28, 28)"
            ]
          },
          "metadata": {},
          "execution_count": 24
        }
      ]
    },
    {
      "cell_type": "markdown",
      "source": [
        "\n",
        "Label\tDescription\n",
        "\n",
        "0\tT-shirt/top\n",
        "\n",
        "1\tTrouser\n",
        "\n",
        "2\tPullover\n",
        "\n",
        "3\tDress\n",
        "\n",
        "4\tCoat\n",
        "\n",
        "5\tSandal\n",
        "\n",
        "6\tShirt\n",
        "\n",
        "7\tSneaker\n",
        "\n",
        "8\tBag\n",
        "\n",
        "9\tAnkle boot"
      ],
      "metadata": {
        "id": "4v887BUbUhNv"
      }
    },
    {
      "cell_type": "code",
      "source": [
        "num_row = 3\n",
        "num_col = 5\n",
        "\n",
        "# get a segment of the dataset\n",
        "num = num_row*num_col\n",
        "images = X_train[:num]\n",
        "labels = y_train[:num]\n",
        "\n",
        "# plot images\n",
        "fig, axes = plt.subplots(num_row, num_col, figsize=(1.5*num_col,2*num_row))\n",
        "for i in range(num_row*num_col):\n",
        "    ax = axes[i//num_col, i%num_col]\n",
        "    ax.imshow(images[i], cmap='gray')\n",
        "    ax.set_title('Label: {}'.format(labels[i]))\n",
        "plt.tight_layout()\n",
        "plt.show()"
      ],
      "metadata": {
        "colab": {
          "base_uri": "https://localhost:8080/",
          "height": 420
        },
        "id": "D48UVrojVO__",
        "outputId": "01345d1b-2407-4498-c804-302a4eff9851"
      },
      "execution_count": null,
      "outputs": [
        {
          "output_type": "display_data",
          "data": {
            "image/png": "[encoded data removed]",
            "text/plain": [
              "<Figure size 540x432 with 15 Axes>"
            ]
          },
          "metadata": {
            "needs_background": "light"
          }
        }
      ]
    },
    {
      "cell_type": "code",
      "source": [
        "from keras import activations\n",
        "# creating the model\n",
        "from keras.models import Sequential\n",
        "from keras.layers import Dense, Flatten\n",
        "\n",
        "model = Sequential()\n",
        "model.add(Flatten(input_shape=[28,28]))   # converts each input image into 1-D array, it simply computes X.reshape(-1,1)\n",
        "model.add(Dense(300, activation='relu'))\n",
        "model.add(Dense(100, activation='relu'))\n",
        "model.add(Dense(10, activation='softmax'))  # softmax because the classes are exclusive"
      ],
      "metadata": {
        "id": "ksmD0gIFUym9"
      },
      "execution_count": null,
      "outputs": []
    },
    {
      "cell_type": "code",
      "source": [
        "model.summary()"
      ],
      "metadata": {
        "colab": {
          "base_uri": "https://localhost:8080/"
        },
        "id": "BHGkRaHzU4nV",
        "outputId": "1929bffd-d84a-4a75-9a31-d223f1252197"
      },
      "execution_count": null,
      "outputs": [
        {
          "output_type": "stream",
          "name": "stdout",
          "text": [
            "Model: \"sequential_1\"\n",
            "_________________________________________________________________\n",
            " Layer (type)                Output Shape              Param #   \n",
            "=================================================================\n",
            " flatten_1 (Flatten)         (None, 784)               0         \n",
            "                                                                 \n",
            " dense_3 (Dense)             (None, 300)               235500    \n",
            "                                                                 \n",
            " dense_4 (Dense)             (None, 100)               30100     \n",
            "                                                                 \n",
            " dense_5 (Dense)             (None, 10)                1010      \n",
            "                                                                 \n",
            "=================================================================\n",
            "Total params: 266,610\n",
            "Trainable params: 266,610\n",
            "Non-trainable params: 0\n",
            "_________________________________________________________________\n"
          ]
        }
      ]
    },
    {
      "cell_type": "code",
      "source": [
        "# to fetch the model's layers\n",
        "model.layers"
      ],
      "metadata": {
        "colab": {
          "base_uri": "https://localhost:8080/"
        },
        "id": "5_3sQivqZsjQ",
        "outputId": "76308b36-1921-41ca-de3a-657b2742afec"
      },
      "execution_count": null,
      "outputs": [
        {
          "output_type": "execute_result",
          "data": {
            "text/plain": [
              "[<keras.layers.core.flatten.Flatten at 0x7fa874c34850>,\n",
              " <keras.layers.core.dense.Dense at 0x7fa87464a810>,\n",
              " <keras.layers.core.dense.Dense at 0x7fa878250190>,\n",
              " <keras.layers.core.dense.Dense at 0x7fa8786a9b90>]"
            ]
          },
          "metadata": {},
          "execution_count": 28
        }
      ]
    },
    {
      "cell_type": "code",
      "source": [
        "model.layers[1].name"
      ],
      "metadata": {
        "colab": {
          "base_uri": "https://localhost:8080/",
          "height": 35
        },
        "id": "oNhi9upsZ45i",
        "outputId": "50f265d6-8d49-42a6-f379-34156ed6f69b"
      },
      "execution_count": null,
      "outputs": [
        {
          "output_type": "execute_result",
          "data": {
            "application/vnd.google.colaboratory.intrinsic+json": {
              "type": "string"
            },
            "text/plain": [
              "'dense'"
            ]
          },
          "metadata": {},
          "execution_count": 12
        }
      ]
    },
    {
      "cell_type": "code",
      "source": [
        "# all the parameters of a layer can be accessed using the get_weights() and set_weights() method\n",
        "model.get_weights()"
      ],
      "metadata": {
        "id": "zdNnkghZaKCl"
      },
      "execution_count": null,
      "outputs": []
    },
    {
      "cell_type": "code",
      "source": [
        "# compiling the model\n",
        "\n",
        "model.compile(loss='sparse_categorical_crossentropy', optimizer='adam',metrics=['accuracy'])\n",
        "\n",
        "# sparse_categorical_crossentropy because we have sparse labels i.e, for each instance there is just a target class index, from 0 to 9"
      ],
      "metadata": {
        "id": "nLQfBjDDbEwv"
      },
      "execution_count": null,
      "outputs": []
    },
    {
      "cell_type": "code",
      "source": [
        "model.fit(X_train, y_train, epochs = 30, validation_data=(X_valid, y_valid))"
      ],
      "metadata": {
        "colab": {
          "base_uri": "https://localhost:8080/"
        },
        "id": "yH67-QIvbfoF",
        "outputId": "cd882865-1508-4382-9eb6-c5fe9709813d"
      },
      "execution_count": null,
      "outputs": [
        {
          "output_type": "stream",
          "name": "stdout",
          "text": [
            "Epoch 1/30\n",
            "1719/1719 [==============================] - 11s 6ms/step - loss: 0.4859 - accuracy: 0.8233 - val_loss: 0.3874 - val_accuracy: 0.8608\n",
            "Epoch 2/30\n",
            "1719/1719 [==============================] - 7s 4ms/step - loss: 0.3662 - accuracy: 0.8651 - val_loss: 0.3449 - val_accuracy: 0.8752\n",
            "Epoch 3/30\n",
            "1719/1719 [==============================] - 7s 4ms/step - loss: 0.3303 - accuracy: 0.8781 - val_loss: 0.3210 - val_accuracy: 0.8810\n",
            "Epoch 4/30\n",
            "1719/1719 [==============================] - 7s 4ms/step - loss: 0.3039 - accuracy: 0.8861 - val_loss: 0.3167 - val_accuracy: 0.8908\n",
            "Epoch 5/30\n",
            "1719/1719 [==============================] - 7s 4ms/step - loss: 0.2860 - accuracy: 0.8925 - val_loss: 0.3254 - val_accuracy: 0.8838\n",
            "Epoch 6/30\n",
            "1719/1719 [==============================] - 7s 4ms/step - loss: 0.2734 - accuracy: 0.8973 - val_loss: 0.3052 - val_accuracy: 0.8914\n",
            "Epoch 7/30\n",
            "1719/1719 [==============================] - 7s 4ms/step - loss: 0.2572 - accuracy: 0.9023 - val_loss: 0.3149 - val_accuracy: 0.8886\n",
            "Epoch 8/30\n",
            "1719/1719 [==============================] - 7s 4ms/step - loss: 0.2463 - accuracy: 0.9070 - val_loss: 0.3018 - val_accuracy: 0.8958\n",
            "Epoch 9/30\n",
            "1719/1719 [==============================] - 7s 4ms/step - loss: 0.2374 - accuracy: 0.9102 - val_loss: 0.2925 - val_accuracy: 0.8946\n",
            "Epoch 10/30\n",
            "1719/1719 [==============================] - 7s 4ms/step - loss: 0.2273 - accuracy: 0.9133 - val_loss: 0.3093 - val_accuracy: 0.8948\n",
            "Epoch 11/30\n",
            "1719/1719 [==============================] - 7s 4ms/step - loss: 0.2196 - accuracy: 0.9162 - val_loss: 0.3064 - val_accuracy: 0.8948\n",
            "Epoch 12/30\n",
            "1719/1719 [==============================] - 7s 4ms/step - loss: 0.2101 - accuracy: 0.9197 - val_loss: 0.3240 - val_accuracy: 0.8882\n",
            "Epoch 13/30\n",
            "1719/1719 [==============================] - 7s 4ms/step - loss: 0.2040 - accuracy: 0.9222 - val_loss: 0.3143 - val_accuracy: 0.8972\n",
            "Epoch 14/30\n",
            "1719/1719 [==============================] - 7s 4ms/step - loss: 0.1977 - accuracy: 0.9256 - val_loss: 0.2962 - val_accuracy: 0.8972\n",
            "Epoch 15/30\n",
            "1719/1719 [==============================] - 7s 4ms/step - loss: 0.1906 - accuracy: 0.9275 - val_loss: 0.3181 - val_accuracy: 0.9024\n",
            "Epoch 16/30\n",
            "1719/1719 [==============================] - 7s 4ms/step - loss: 0.1860 - accuracy: 0.9292 - val_loss: 0.3345 - val_accuracy: 0.8968\n",
            "Epoch 17/30\n",
            "1719/1719 [==============================] - 7s 4ms/step - loss: 0.1783 - accuracy: 0.9325 - val_loss: 0.3174 - val_accuracy: 0.8982\n",
            "Epoch 18/30\n",
            "1719/1719 [==============================] - 7s 4ms/step - loss: 0.1734 - accuracy: 0.9332 - val_loss: 0.3498 - val_accuracy: 0.8956\n",
            "Epoch 19/30\n",
            "1719/1719 [==============================] - 7s 4ms/step - loss: 0.1677 - accuracy: 0.9359 - val_loss: 0.3507 - val_accuracy: 0.8976\n",
            "Epoch 20/30\n",
            "1719/1719 [==============================] - 7s 4ms/step - loss: 0.1649 - accuracy: 0.9367 - val_loss: 0.3575 - val_accuracy: 0.9008\n",
            "Epoch 21/30\n",
            "1719/1719 [==============================] - 7s 4ms/step - loss: 0.1586 - accuracy: 0.9390 - val_loss: 0.3910 - val_accuracy: 0.8936\n",
            "Epoch 22/30\n",
            "1719/1719 [==============================] - 7s 4ms/step - loss: 0.1566 - accuracy: 0.9398 - val_loss: 0.3502 - val_accuracy: 0.9014\n",
            "Epoch 23/30\n",
            "1719/1719 [==============================] - 7s 4ms/step - loss: 0.1506 - accuracy: 0.9424 - val_loss: 0.3737 - val_accuracy: 0.8872\n",
            "Epoch 24/30\n",
            "1719/1719 [==============================] - 7s 4ms/step - loss: 0.1467 - accuracy: 0.9441 - val_loss: 0.3796 - val_accuracy: 0.9044\n",
            "Epoch 25/30\n",
            "1719/1719 [==============================] - 7s 4ms/step - loss: 0.1452 - accuracy: 0.9437 - val_loss: 0.3962 - val_accuracy: 0.9010\n",
            "Epoch 26/30\n",
            "1719/1719 [==============================] - 7s 4ms/step - loss: 0.1406 - accuracy: 0.9459 - val_loss: 0.4036 - val_accuracy: 0.8982\n",
            "Epoch 27/30\n",
            "1719/1719 [==============================] - 7s 4ms/step - loss: 0.1365 - accuracy: 0.9478 - val_loss: 0.4049 - val_accuracy: 0.8964\n",
            "Epoch 28/30\n",
            "1719/1719 [==============================] - 7s 4ms/step - loss: 0.1334 - accuracy: 0.9491 - val_loss: 0.4171 - val_accuracy: 0.8970\n",
            "Epoch 29/30\n",
            "1719/1719 [==============================] - 7s 4ms/step - loss: 0.1299 - accuracy: 0.9500 - val_loss: 0.4387 - val_accuracy: 0.8948\n",
            "Epoch 30/30\n",
            "1719/1719 [==============================] - 7s 4ms/step - loss: 0.1235 - accuracy: 0.9525 - val_loss: 0.4369 - val_accuracy: 0.8972\n"
          ]
        },
        {
          "output_type": "execute_result",
          "data": {
            "text/plain": [
              "<keras.callbacks.History at 0x7fa87361fe10>"
            ]
          },
          "metadata": {},
          "execution_count": 30
        }
      ]
    },
    {
      "cell_type": "code",
      "source": [
        "loss = pd.DataFrame(model.history.history)\n",
        "loss[:5]"
      ],
      "metadata": {
        "colab": {
          "base_uri": "https://localhost:8080/",
          "height": 206
        },
        "id": "gd9uVOcZcjp1",
        "outputId": "ada52d4b-c84b-4300-ddef-0516aa231e41"
      },
      "execution_count": null,
      "outputs": [
        {
          "output_type": "execute_result",
          "data": {
            "text/html": [
              "\n",
              "  <div id=\"df-9bd5181a-232f-4f6d-abec-38fcac293f57\">\n",
              "    <div class=\"colab-df-container\">\n",
              "      <div>\n",
              "<style scoped>\n",
              "    .dataframe tbody tr th:only-of-type {\n",
              "        vertical-align: middle;\n",
              "    }\n",
              "\n",
              "    .dataframe tbody tr th {\n",
              "        vertical-align: top;\n",
              "    }\n",
              "\n",
              "    .dataframe thead th {\n",
              "        text-align: right;\n",
              "    }\n",
              "</style>\n",
              "<table border=\"1\" class=\"dataframe\">\n",
              "  <thead>\n",
              "    <tr style=\"text-align: right;\">\n",
              "      <th></th>\n",
              "      <th>loss</th>\n",
              "      <th>accuracy</th>\n",
              "      <th>val_loss</th>\n",
              "      <th>val_accuracy</th>\n",
              "    </tr>\n",
              "  </thead>\n",
              "  <tbody>\n",
              "    <tr>\n",
              "      <th>0</th>\n",
              "      <td>0.485913</td>\n",
              "      <td>0.823345</td>\n",
              "      <td>0.387370</td>\n",
              "      <td>0.8608</td>\n",
              "    </tr>\n",
              "    <tr>\n",
              "      <th>1</th>\n",
              "      <td>0.366209</td>\n",
              "      <td>0.865091</td>\n",
              "      <td>0.344923</td>\n",
              "      <td>0.8752</td>\n",
              "    </tr>\n",
              "    <tr>\n",
              "      <th>2</th>\n",
              "      <td>0.330317</td>\n",
              "      <td>0.878055</td>\n",
              "      <td>0.320990</td>\n",
              "      <td>0.8810</td>\n",
              "    </tr>\n",
              "    <tr>\n",
              "      <th>3</th>\n",
              "      <td>0.303894</td>\n",
              "      <td>0.886073</td>\n",
              "      <td>0.316710</td>\n",
              "      <td>0.8908</td>\n",
              "    </tr>\n",
              "    <tr>\n",
              "      <th>4</th>\n",
              "      <td>0.285987</td>\n",
              "      <td>0.892455</td>\n",
              "      <td>0.325396</td>\n",
              "      <td>0.8838</td>\n",
              "    </tr>\n",
              "  </tbody>\n",
              "</table>\n",
              "</div>\n",
              "      <button class=\"colab-df-convert\" onclick=\"convertToInteractive('df-9bd5181a-232f-4f6d-abec-38fcac293f57')\"\n",
              "              title=\"Convert this dataframe to an interactive table.\"\n",
              "              style=\"display:none;\">\n",
              "        \n",
              "  <svg xmlns=\"http://www.w3.org/2000/svg\" height=\"24px\"viewBox=\"0 0 24 24\"\n",
              "       width=\"24px\">\n",
              "    <path d=\"M0 0h24v24H0V0z\" fill=\"none\"/>\n",
              "    <path d=\"M18.56 5.44l.94 2.06.94-2.06 2.06-.94-2.06-.94-.94-2.06-.94 2.06-2.06.94zm-11 1L8.5 8.5l.94-2.06 2.06-.94-2.06-.94L8.5 2.5l-.94 2.06-2.06.94zm10 10l.94 2.06.94-2.06 2.06-.94-2.06-.94-.94-2.06-.94 2.06-2.06.94z\"/><path d=\"M17.41 7.96l-1.37-1.37c-.4-.4-.92-.59-1.43-.59-.52 0-1.04.2-1.43.59L10.3 9.45l-7.72 7.72c-.78.78-.78 2.05 0 2.83L4 21.41c.39.39.9.59 1.41.59.51 0 1.02-.2 1.41-.59l7.78-7.78 2.81-2.81c.8-.78.8-2.07 0-2.86zM5.41 20L4 18.59l7.72-7.72 1.47 1.35L5.41 20z\"/>\n",
              "  </svg>\n",
              "      </button>\n",
              "      \n",
              "  <style>\n",
              "    .colab-df-container {\n",
              "      display:flex;\n",
              "      flex-wrap:wrap;\n",
              "      gap: 12px;\n",
              "    }\n",
              "\n",
              "    .colab-df-convert {\n",
              "      background-color: #E8F0FE;\n",
              "      border: none;\n",
              "      border-radius: 50%;\n",
              "      cursor: pointer;\n",
              "      display: none;\n",
              "      fill: #1967D2;\n",
              "      height: 32px;\n",
              "      padding: 0 0 0 0;\n",
              "      width: 32px;\n",
              "    }\n",
              "\n",
              "    .colab-df-convert:hover {\n",
              "      background-color: #E2EBFA;\n",
              "      box-shadow: 0px 1px 2px rgba(60, 64, 67, 0.3), 0px 1px 3px 1px rgba(60, 64, 67, 0.15);\n",
              "      fill: #174EA6;\n",
              "    }\n",
              "\n",
              "    [theme=dark] .colab-df-convert {\n",
              "      background-color: #3B4455;\n",
              "      fill: #D2E3FC;\n",
              "    }\n",
              "\n",
              "    [theme=dark] .colab-df-convert:hover {\n",
              "      background-color: #434B5C;\n",
              "      box-shadow: 0px 1px 3px 1px rgba(0, 0, 0, 0.15);\n",
              "      filter: drop-shadow(0px 1px 2px rgba(0, 0, 0, 0.3));\n",
              "      fill: #FFFFFF;\n",
              "    }\n",
              "  </style>\n",
              "\n",
              "      <script>\n",
              "        const buttonEl =\n",
              "          document.querySelector('#df-9bd5181a-232f-4f6d-abec-38fcac293f57 button.colab-df-convert');\n",
              "        buttonEl.style.display =\n",
              "          google.colab.kernel.accessAllowed ? 'block' : 'none';\n",
              "\n",
              "        async function convertToInteractive(key) {\n",
              "          const element = document.querySelector('#df-9bd5181a-232f-4f6d-abec-38fcac293f57');\n",
              "          const dataTable =\n",
              "            await google.colab.kernel.invokeFunction('convertToInteractive',\n",
              "                                                     [key], {});\n",
              "          if (!dataTable) return;\n",
              "\n",
              "          const docLinkHtml = 'Like what you see? Visit the ' +\n",
              "            '<a target=\"_blank\" href=https://colab.research.google.com/notebooks/data_table.ipynb>data table notebook</a>'\n",
              "            + ' to learn more about interactive tables.';\n",
              "          element.innerHTML = '';\n",
              "          dataTable['output_type'] = 'display_data';\n",
              "          await google.colab.output.renderOutput(dataTable, element);\n",
              "          const docLink = document.createElement('div');\n",
              "          docLink.innerHTML = docLinkHtml;\n",
              "          element.appendChild(docLink);\n",
              "        }\n",
              "      </script>\n",
              "    </div>\n",
              "  </div>\n",
              "  "
            ],
            "text/plain": [
              "       loss  accuracy  val_loss  val_accuracy\n",
              "0  0.485913  0.823345  0.387370        0.8608\n",
              "1  0.366209  0.865091  0.344923        0.8752\n",
              "2  0.330317  0.878055  0.320990        0.8810\n",
              "3  0.303894  0.886073  0.316710        0.8908\n",
              "4  0.285987  0.892455  0.325396        0.8838"
            ]
          },
          "metadata": {},
          "execution_count": 31
        }
      ]
    },
    {
      "cell_type": "code",
      "source": [
        "loss.plot()"
      ],
      "metadata": {
        "colab": {
          "base_uri": "https://localhost:8080/",
          "height": 282
        },
        "id": "QbwFdiLMdvU7",
        "outputId": "3d911455-0645-492c-ec87-603d7e83afc1"
      },
      "execution_count": null,
      "outputs": [
        {
          "output_type": "execute_result",
          "data": {
            "text/plain": [
              "<matplotlib.axes._subplots.AxesSubplot at 0x7fa8714d6dd0>"
            ]
          },
          "metadata": {},
          "execution_count": 32
        },
        {
          "output_type": "display_data",
          "data": {
            "image/png": "[encoded data removed]",
            "text/plain": [
              "<Figure size 432x288 with 1 Axes>"
            ]
          },
          "metadata": {
            "needs_background": "light"
          }
        }
      ]
    }
  ]
}