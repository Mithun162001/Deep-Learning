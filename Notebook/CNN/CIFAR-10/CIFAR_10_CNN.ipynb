{
  "nbformat": 4,
  "nbformat_minor": 0,
  "metadata": {
    "colab": {
      "name": "CIFAR 10 - CNN.ipynb",
      "provenance": [],
      "collapsed_sections": []
    },
    "kernelspec": {
      "name": "python3",
      "display_name": "Python 3"
    },
    "language_info": {
      "name": "python"
    },
    "accelerator": "GPU"
  },
  "cells": [
    {
      "cell_type": "markdown",
      "source": [
        "<h1>CNN on CIFAR-10 dataset</h1>\n",
        "\n",
        "* Has 50,000 training images\n",
        "* Has 10,000 test images\n",
        "* Shape of each image = (32,32)\n",
        "* These are color images - RGB\n",
        "* Shape of entire training data = (50000,32,32,3)\n",
        "                                  (samples, width, height, channels)"
      ],
      "metadata": {
        "id": "XjlBVV6NMV2P"
      }
    },
    {
      "cell_type": "markdown",
      "source": [
        "importing the libraries"
      ],
      "metadata": {
        "id": "PmOaetFqNI1e"
      }
    },
    {
      "cell_type": "code",
      "execution_count": 1,
      "metadata": {
        "id": "tbc_6wSLkDCd"
      },
      "outputs": [],
      "source": [
        "import numpy as np\n",
        "import pandas as pd\n",
        "import matplotlib.pyplot as plt\n",
        "import seaborn as sns\n",
        "%matplotlib inline"
      ]
    },
    {
      "cell_type": "markdown",
      "source": [
        "Loading the data"
      ],
      "metadata": {
        "id": "GiCkow-mNFcx"
      }
    },
    {
      "cell_type": "code",
      "source": [
        "import tensorflow as tf"
      ],
      "metadata": {
        "id": "2FOlsLqbNceg"
      },
      "execution_count": 2,
      "outputs": []
    },
    {
      "cell_type": "code",
      "source": [
        "from tensorflow.keras.datasets import cifar10\n",
        "(X_train, y_train), (X_test, y_test) = cifar10.load_data()"
      ],
      "metadata": {
        "id": "6cMKL6JMNCqF",
        "colab": {
          "base_uri": "https://localhost:8080/"
        },
        "outputId": "dc788348-43dd-41a8-da97-4af845c6dd3a"
      },
      "execution_count": 3,
      "outputs": [
        {
          "output_type": "stream",
          "name": "stdout",
          "text": [
            "Downloading data from https://www.cs.toronto.edu/~kriz/cifar-10-python.tar.gz\n",
            "170500096/170498071 [==============================] - 2s 0us/step\n",
            "170508288/170498071 [==============================] - 2s 0us/step\n"
          ]
        }
      ]
    },
    {
      "cell_type": "code",
      "source": [
        "print(\"Shape of the training data: \", X_train.shape)\n",
        "print(\"Shape of the testing data: \", X_test.shape)"
      ],
      "metadata": {
        "colab": {
          "base_uri": "https://localhost:8080/"
        },
        "id": "rqpkoFeyL-mN",
        "outputId": "12d1af45-56e8-4406-d990-ea231650dc93"
      },
      "execution_count": 4,
      "outputs": [
        {
          "output_type": "stream",
          "name": "stdout",
          "text": [
            "Shape of the training data:  (50000, 32, 32, 3)\n",
            "Shape of the testing data:  (10000, 32, 32, 3)\n"
          ]
        }
      ]
    },
    {
      "cell_type": "code",
      "source": [
        "single_image = X_train[0]\n",
        "print(\"Shape of single image: \",single_image.shape)"
      ],
      "metadata": {
        "colab": {
          "base_uri": "https://localhost:8080/"
        },
        "id": "ksJ60t4sNzvD",
        "outputId": "ba67afc5-83ea-4c3c-efe7-13070f31e203"
      },
      "execution_count": 5,
      "outputs": [
        {
          "output_type": "stream",
          "name": "stdout",
          "text": [
            "Shape of single image:  (32, 32, 3)\n"
          ]
        }
      ]
    },
    {
      "cell_type": "code",
      "source": [
        "plt.imshow(single_image)\n",
        "print(\"The labelled digit of the below plot: \", y_train[0],\"\\n\")"
      ],
      "metadata": {
        "colab": {
          "base_uri": "https://localhost:8080/",
          "height": 301
        },
        "id": "Weg3tMXmN5bl",
        "outputId": "8c4e9388-5710-4c47-be5b-00df65216f26"
      },
      "execution_count": 7,
      "outputs": [
        {
          "output_type": "stream",
          "name": "stdout",
          "text": [
            "The labelled digit of the below plot:  [6] \n",
            "\n"
          ]
        },
        {
          "output_type": "display_data",
          "data": {
            "text/plain": [
              "<Figure size 432x288 with 1 Axes>"
            ],
            "image/png": "[encoded data removed]"
          },
          "metadata": {
            "needs_background": "light"
          }
        }
      ]
    },
    {
      "cell_type": "markdown",
      "source": [
        "Pre-processing:- One Hot Encoding & reshaping the data"
      ],
      "metadata": {
        "id": "38IEA26OOisE"
      }
    },
    {
      "cell_type": "markdown",
      "source": [
        "0 - Airplane\n",
        "\n",
        "1 - Automobile\n",
        "\n",
        "2 - Bird\n",
        "\n",
        "3 - Cat\n",
        "\n",
        "4 - Deer\n",
        "\n",
        "5 - Dog\n",
        "\n",
        "6 - Frog\n",
        "\n",
        "7 - Horse\n",
        "\n",
        "8 - Ship\n",
        "\n",
        "9 - Truck"
      ],
      "metadata": {
        "id": "BMv7l19yYS__"
      }
    },
    {
      "cell_type": "code",
      "source": [
        "# One Hot Encoding \n",
        "\n",
        "from tensorflow.keras.utils import to_categorical       # converts to binary class matrix\n",
        "print(\"Shape before encoding: \", y_train.shape)\n",
        "y_example = to_categorical(y_train)\n",
        "print(\"Shape after encoding: \", y_example.shape)"
      ],
      "metadata": {
        "colab": {
          "base_uri": "https://localhost:8080/"
        },
        "id": "eOkajIsjODlM",
        "outputId": "ba357a42-7920-4cb8-81fb-75e21fad3c5a"
      },
      "execution_count": 8,
      "outputs": [
        {
          "output_type": "stream",
          "name": "stdout",
          "text": [
            "Shape before encoding:  (50000, 1)\n",
            "Shape after encoding:  (50000, 10)\n"
          ]
        }
      ]
    },
    {
      "cell_type": "code",
      "source": [
        "print(\"Label before encoding: \",y_train[0])\n",
        "print(\"Label after encoding: \", y_example[0])"
      ],
      "metadata": {
        "colab": {
          "base_uri": "https://localhost:8080/"
        },
        "id": "UELVWUuZO-_j",
        "outputId": "35a6bd3d-10ee-4e4b-a719-c34a7848a193"
      },
      "execution_count": 9,
      "outputs": [
        {
          "output_type": "stream",
          "name": "stdout",
          "text": [
            "Label before encoding:  [6]\n",
            "Label after encoding:  [0. 0. 0. 0. 0. 0. 1. 0. 0. 0.]\n"
          ]
        }
      ]
    },
    {
      "cell_type": "code",
      "source": [
        "y_cat_train = to_categorical(y_train, num_classes=10)\n",
        "y_cat_test = to_categorical(y_test, num_classes=10)"
      ],
      "metadata": {
        "id": "ok76yn_WPC3-"
      },
      "execution_count": 10,
      "outputs": []
    },
    {
      "cell_type": "code",
      "source": [
        "# Normalizse the data\n",
        "\n",
        "print(\"Maximum pixel value in an image: \", single_image.max())\n",
        "print(\"Minimum pixel value in an image: \", single_image.min())"
      ],
      "metadata": {
        "colab": {
          "base_uri": "https://localhost:8080/"
        },
        "id": "uTY11c6HPlAT",
        "outputId": "27c7e39e-d414-4d01-cc9f-0fdb42911a5a"
      },
      "execution_count": 11,
      "outputs": [
        {
          "output_type": "stream",
          "name": "stdout",
          "text": [
            "Maximum pixel value in an image:  255\n",
            "Minimum pixel value in an image:  0\n"
          ]
        }
      ]
    },
    {
      "cell_type": "code",
      "source": [
        "X_train = X_train / 255\n",
        "X_test = X_test / 255"
      ],
      "metadata": {
        "id": "CnlB-56LP40y"
      },
      "execution_count": 12,
      "outputs": []
    },
    {
      "cell_type": "code",
      "source": [
        "plt.imshow(X_train[0])       # the image will still be the same even after scaling the values"
      ],
      "metadata": {
        "colab": {
          "base_uri": "https://localhost:8080/",
          "height": 283
        },
        "id": "hsVg4WLaQC9t",
        "outputId": "9715bb3e-8958-4465-c525-79ee809dec3b"
      },
      "execution_count": 13,
      "outputs": [
        {
          "output_type": "execute_result",
          "data": {
            "text/plain": [
              "<matplotlib.image.AxesImage at 0x7f9ea5866cd0>"
            ]
          },
          "metadata": {},
          "execution_count": 13
        },
        {
          "output_type": "display_data",
          "data": {
            "text/plain": [
              "<Figure size 432x288 with 1 Axes>"
            ],
            "image/png": "[encoded data removed]"
          },
          "metadata": {
            "needs_background": "light"
          }
        }
      ]
    },
    {
      "cell_type": "markdown",
      "source": [
        "Creating the model"
      ],
      "metadata": {
        "id": "4Fy4Ozu_QWW7"
      }
    },
    {
      "cell_type": "markdown",
      "source": [
        "* Generally, filters are choosen based off the powers of 2 like 2,4,8,16,32,64,128 ..\n",
        "* For complex image classification, we need to add more filters\n",
        "* To start off, 32 is a good number of filters to start with\n",
        "      kernel_size ----> the size of the filter, (4,4) is good to start with \n",
        "      strides     ----> the number of steps taken to slide, default is (1,1)\n",
        "      padding     ----> has 2 values - 'valid' or 'same'\n",
        "* valid - don't apply any padding, assumes that all dimensions are valid, so that image fully gets covered by filter.\n",
        "* same - apply padding to input, so that the input image gets fully covered by the filter.\n",
        "* Here, 32/4 = 8. If any decimal places were returned like 8.1 then we use the value 'same' for padding if it's divisible then 'valid'"
      ],
      "metadata": {
        "id": "2cg9h54jRxMw"
      }
    },
    {
      "cell_type": "code",
      "source": [
        "from tensorflow.keras.models import Sequential\n",
        "from tensorflow.keras.layers import Dense, Conv2D, MaxPool2D, Flatten\n",
        "\n",
        "model = Sequential()\n",
        "\n",
        "# convolutional layer\n",
        "model.add(Conv2D(filters=32, kernel_size=(4,4), strides=(1,1),padding='valid',input_shape=(32,32,3),activation='relu'))\n",
        "# max-pooling layer\n",
        "model.add(MaxPool2D(pool_size=(2,2)))\n",
        "# convolutional layer\n",
        "model.add(Conv2D(filters=32, kernel_size=(4,4), strides=(1,1),padding='valid',input_shape=(32,32,3),activation='relu'))\n",
        "# max-pooling layer\n",
        "model.add(MaxPool2D(pool_size=(2,2)))\n",
        "# flatten layer before Fully connected layer\n",
        "model.add(Flatten())\n",
        "# fully connected layer\n",
        "model.add(Dense(256, activation='relu'))\n",
        "# output layer\n",
        "model.add(Dense(10, activation='softmax'))"
      ],
      "metadata": {
        "id": "M66jWUf0QHOs"
      },
      "execution_count": 28,
      "outputs": []
    },
    {
      "cell_type": "code",
      "source": [
        "# compile the model\n",
        "model.compile(optimizer='adam', loss='categorical_crossentropy', metrics=['accuracy'])"
      ],
      "metadata": {
        "id": "l4ig_MfPRkiG"
      },
      "execution_count": 29,
      "outputs": []
    },
    {
      "cell_type": "markdown",
      "source": [
        "Training the model"
      ],
      "metadata": {
        "id": "VuIDYFo1TcPr"
      }
    },
    {
      "cell_type": "code",
      "source": [
        "# Early Stopping\n",
        "\n",
        "from tensorflow.keras.callbacks import EarlyStopping\n",
        "early_stop = EarlyStopping(monitor='val_loss', patience=2)"
      ],
      "metadata": {
        "id": "ySO0oViuRnWF"
      },
      "execution_count": 42,
      "outputs": []
    },
    {
      "cell_type": "code",
      "source": [
        "# Training\n",
        "\n",
        "model.fit(X_train, y_cat_train, validation_data=(X_test, y_cat_test), callbacks=[early_stop], epochs=15)"
      ],
      "metadata": {
        "colab": {
          "base_uri": "https://localhost:8080/"
        },
        "id": "Obocf8D4TpfR",
        "outputId": "f886847c-c1ae-47ab-d0ff-d8d5bb4ee17b"
      },
      "execution_count": 43,
      "outputs": [
        {
          "output_type": "stream",
          "name": "stdout",
          "text": [
            "Epoch 1/15\n",
            "1563/1563 [==============================] - 7s 5ms/step - loss: 0.7510 - accuracy: 0.7372 - val_loss: 0.9494 - val_accuracy: 0.6810\n",
            "Epoch 2/15\n",
            "1563/1563 [==============================] - 7s 4ms/step - loss: 0.6832 - accuracy: 0.7610 - val_loss: 0.9879 - val_accuracy: 0.6732\n",
            "Epoch 3/15\n",
            "1563/1563 [==============================] - 7s 4ms/step - loss: 0.6179 - accuracy: 0.7830 - val_loss: 0.9922 - val_accuracy: 0.6720\n"
          ]
        },
        {
          "output_type": "execute_result",
          "data": {
            "text/plain": [
              "<keras.callbacks.History at 0x7f9f1ae0e090>"
            ]
          },
          "metadata": {},
          "execution_count": 43
        }
      ]
    },
    {
      "cell_type": "markdown",
      "source": [
        "Model evaluation"
      ],
      "metadata": {
        "id": "LNxvdAUoVTfB"
      }
    },
    {
      "cell_type": "code",
      "source": [
        "model.summary()"
      ],
      "metadata": {
        "colab": {
          "base_uri": "https://localhost:8080/"
        },
        "id": "E-t6gsMrT6uV",
        "outputId": "660ad467-589b-4132-a13b-92a729fa1770"
      },
      "execution_count": 44,
      "outputs": [
        {
          "output_type": "stream",
          "name": "stdout",
          "text": [
            "Model: \"sequential_1\"\n",
            "_________________________________________________________________\n",
            " Layer (type)                Output Shape              Param #   \n",
            "=================================================================\n",
            " conv2d_2 (Conv2D)           (None, 29, 29, 32)        1568      \n",
            "                                                                 \n",
            " max_pooling2d_2 (MaxPooling  (None, 14, 14, 32)       0         \n",
            " 2D)                                                             \n",
            "                                                                 \n",
            " conv2d_3 (Conv2D)           (None, 11, 11, 32)        16416     \n",
            "                                                                 \n",
            " max_pooling2d_3 (MaxPooling  (None, 5, 5, 32)         0         \n",
            " 2D)                                                             \n",
            "                                                                 \n",
            " flatten_1 (Flatten)         (None, 800)               0         \n",
            "                                                                 \n",
            " dense_3 (Dense)             (None, 256)               205056    \n",
            "                                                                 \n",
            " dense_4 (Dense)             (None, 10)                2570      \n",
            "                                                                 \n",
            "=================================================================\n",
            "Total params: 225,610\n",
            "Trainable params: 225,610\n",
            "Non-trainable params: 0\n",
            "_________________________________________________________________\n"
          ]
        }
      ]
    },
    {
      "cell_type": "code",
      "source": [
        "tf.keras.utils.plot_model(model, show_layer_activations=True, show_shapes=False)"
      ],
      "metadata": {
        "colab": {
          "base_uri": "https://localhost:8080/",
          "height": 812
        },
        "id": "wFL78PAGVXPh",
        "outputId": "aab7d47d-fcd3-4081-c6ca-edc881af125d"
      },
      "execution_count": 45,
      "outputs": [
        {
          "output_type": "execute_result",
          "data": {
            "text/plain": [
              "<IPython.core.display.Image object>"
            ],
            "image/png": "[encoded data removed]"
          },
          "metadata": {},
          "execution_count": 45
        }
      ]
    },
    {
      "cell_type": "code",
      "source": [
        "metrics = pd.DataFrame(model.history.history)\n",
        "metrics.head()"
      ],
      "metadata": {
        "colab": {
          "base_uri": "https://localhost:8080/",
          "height": 143
        },
        "id": "R_OnIZjDV891",
        "outputId": "7870c727-e7f0-4d42-8350-d1faa6ed9f5f"
      },
      "execution_count": 46,
      "outputs": [
        {
          "output_type": "execute_result",
          "data": {
            "text/plain": [
              "       loss  accuracy  val_loss  val_accuracy\n",
              "0  0.750974   0.73720  0.949444        0.6810\n",
              "1  0.683168   0.76096  0.987879        0.6732\n",
              "2  0.617858   0.78298  0.992153        0.6720"
            ],
            "text/html": [
              "\n",
              "  <div id=\"df-a644ed3a-9a0e-416b-ae8b-9cb13b010b2c\">\n",
              "    <div class=\"colab-df-container\">\n",
              "      <div>\n",
              "<style scoped>\n",
              "    .dataframe tbody tr th:only-of-type {\n",
              "        vertical-align: middle;\n",
              "    }\n",
              "\n",
              "    .dataframe tbody tr th {\n",
              "        vertical-align: top;\n",
              "    }\n",
              "\n",
              "    .dataframe thead th {\n",
              "        text-align: right;\n",
              "    }\n",
              "</style>\n",
              "<table border=\"1\" class=\"dataframe\">\n",
              "  <thead>\n",
              "    <tr style=\"text-align: right;\">\n",
              "      <th></th>\n",
              "      <th>loss</th>\n",
              "      <th>accuracy</th>\n",
              "      <th>val_loss</th>\n",
              "      <th>val_accuracy</th>\n",
              "    </tr>\n",
              "  </thead>\n",
              "  <tbody>\n",
              "    <tr>\n",
              "      <th>0</th>\n",
              "      <td>0.750974</td>\n",
              "      <td>0.73720</td>\n",
              "      <td>0.949444</td>\n",
              "      <td>0.6810</td>\n",
              "    </tr>\n",
              "    <tr>\n",
              "      <th>1</th>\n",
              "      <td>0.683168</td>\n",
              "      <td>0.76096</td>\n",
              "      <td>0.987879</td>\n",
              "      <td>0.6732</td>\n",
              "    </tr>\n",
              "    <tr>\n",
              "      <th>2</th>\n",
              "      <td>0.617858</td>\n",
              "      <td>0.78298</td>\n",
              "      <td>0.992153</td>\n",
              "      <td>0.6720</td>\n",
              "    </tr>\n",
              "  </tbody>\n",
              "</table>\n",
              "</div>\n",
              "      <button class=\"colab-df-convert\" onclick=\"convertToInteractive('df-a644ed3a-9a0e-416b-ae8b-9cb13b010b2c')\"\n",
              "              title=\"Convert this dataframe to an interactive table.\"\n",
              "              style=\"display:none;\">\n",
              "        \n",
              "  <svg xmlns=\"http://www.w3.org/2000/svg\" height=\"24px\"viewBox=\"0 0 24 24\"\n",
              "       width=\"24px\">\n",
              "    <path d=\"M0 0h24v24H0V0z\" fill=\"none\"/>\n",
              "    <path d=\"M18.56 5.44l.94 2.06.94-2.06 2.06-.94-2.06-.94-.94-2.06-.94 2.06-2.06.94zm-11 1L8.5 8.5l.94-2.06 2.06-.94-2.06-.94L8.5 2.5l-.94 2.06-2.06.94zm10 10l.94 2.06.94-2.06 2.06-.94-2.06-.94-.94-2.06-.94 2.06-2.06.94z\"/><path d=\"M17.41 7.96l-1.37-1.37c-.4-.4-.92-.59-1.43-.59-.52 0-1.04.2-1.43.59L10.3 9.45l-7.72 7.72c-.78.78-.78 2.05 0 2.83L4 21.41c.39.39.9.59 1.41.59.51 0 1.02-.2 1.41-.59l7.78-7.78 2.81-2.81c.8-.78.8-2.07 0-2.86zM5.41 20L4 18.59l7.72-7.72 1.47 1.35L5.41 20z\"/>\n",
              "  </svg>\n",
              "      </button>\n",
              "      \n",
              "  <style>\n",
              "    .colab-df-container {\n",
              "      display:flex;\n",
              "      flex-wrap:wrap;\n",
              "      gap: 12px;\n",
              "    }\n",
              "\n",
              "    .colab-df-convert {\n",
              "      background-color: #E8F0FE;\n",
              "      border: none;\n",
              "      border-radius: 50%;\n",
              "      cursor: pointer;\n",
              "      display: none;\n",
              "      fill: #1967D2;\n",
              "      height: 32px;\n",
              "      padding: 0 0 0 0;\n",
              "      width: 32px;\n",
              "    }\n",
              "\n",
              "    .colab-df-convert:hover {\n",
              "      background-color: #E2EBFA;\n",
              "      box-shadow: 0px 1px 2px rgba(60, 64, 67, 0.3), 0px 1px 3px 1px rgba(60, 64, 67, 0.15);\n",
              "      fill: #174EA6;\n",
              "    }\n",
              "\n",
              "    [theme=dark] .colab-df-convert {\n",
              "      background-color: #3B4455;\n",
              "      fill: #D2E3FC;\n",
              "    }\n",
              "\n",
              "    [theme=dark] .colab-df-convert:hover {\n",
              "      background-color: #434B5C;\n",
              "      box-shadow: 0px 1px 3px 1px rgba(0, 0, 0, 0.15);\n",
              "      filter: drop-shadow(0px 1px 2px rgba(0, 0, 0, 0.3));\n",
              "      fill: #FFFFFF;\n",
              "    }\n",
              "  </style>\n",
              "\n",
              "      <script>\n",
              "        const buttonEl =\n",
              "          document.querySelector('#df-a644ed3a-9a0e-416b-ae8b-9cb13b010b2c button.colab-df-convert');\n",
              "        buttonEl.style.display =\n",
              "          google.colab.kernel.accessAllowed ? 'block' : 'none';\n",
              "\n",
              "        async function convertToInteractive(key) {\n",
              "          const element = document.querySelector('#df-a644ed3a-9a0e-416b-ae8b-9cb13b010b2c');\n",
              "          const dataTable =\n",
              "            await google.colab.kernel.invokeFunction('convertToInteractive',\n",
              "                                                     [key], {});\n",
              "          if (!dataTable) return;\n",
              "\n",
              "          const docLinkHtml = 'Like what you see? Visit the ' +\n",
              "            '<a target=\"_blank\" href=https://colab.research.google.com/notebooks/data_table.ipynb>data table notebook</a>'\n",
              "            + ' to learn more about interactive tables.';\n",
              "          element.innerHTML = '';\n",
              "          dataTable['output_type'] = 'display_data';\n",
              "          await google.colab.output.renderOutput(dataTable, element);\n",
              "          const docLink = document.createElement('div');\n",
              "          docLink.innerHTML = docLinkHtml;\n",
              "          element.appendChild(docLink);\n",
              "        }\n",
              "      </script>\n",
              "    </div>\n",
              "  </div>\n",
              "  "
            ]
          },
          "metadata": {},
          "execution_count": 46
        }
      ]
    },
    {
      "cell_type": "code",
      "source": [
        "metrics[['loss','val_loss']].plot()"
      ],
      "metadata": {
        "colab": {
          "base_uri": "https://localhost:8080/",
          "height": 282
        },
        "id": "e_MFt5e2WXGB",
        "outputId": "84c25efa-4d97-4345-c4cb-9ca5e93ebcfd"
      },
      "execution_count": 47,
      "outputs": [
        {
          "output_type": "execute_result",
          "data": {
            "text/plain": [
              "<matplotlib.axes._subplots.AxesSubplot at 0x7f9e26570510>"
            ]
          },
          "metadata": {},
          "execution_count": 47
        },
        {
          "output_type": "display_data",
          "data": {
            "text/plain": [
              "<Figure size 432x288 with 1 Axes>"
            ],
            "image/png": "[encoded data removed]"
          },
          "metadata": {
            "needs_background": "light"
          }
        }
      ]
    },
    {
      "cell_type": "code",
      "source": [
        "metrics[['accuracy','val_accuracy']].plot()"
      ],
      "metadata": {
        "colab": {
          "base_uri": "https://localhost:8080/",
          "height": 282
        },
        "id": "7Sy_YWUpWd9Y",
        "outputId": "e9a28922-e8fd-477d-f062-198e3d755971"
      },
      "execution_count": 48,
      "outputs": [
        {
          "output_type": "execute_result",
          "data": {
            "text/plain": [
              "<matplotlib.axes._subplots.AxesSubplot at 0x7f9e26594210>"
            ]
          },
          "metadata": {},
          "execution_count": 48
        },
        {
          "output_type": "display_data",
          "data": {
            "text/plain": [
              "<Figure size 432x288 with 1 Axes>"
            ],
            "image/png": "[encoded data removed]"
          },
          "metadata": {
            "needs_background": "light"
          }
        }
      ]
    },
    {
      "cell_type": "code",
      "source": [
        "model.metrics_names"
      ],
      "metadata": {
        "colab": {
          "base_uri": "https://localhost:8080/"
        },
        "id": "T5gGQ0AAXMC2",
        "outputId": "0efab6f8-73ef-4010-d10f-fb448dda05fa"
      },
      "execution_count": 49,
      "outputs": [
        {
          "output_type": "execute_result",
          "data": {
            "text/plain": [
              "['loss', 'accuracy']"
            ]
          },
          "metadata": {},
          "execution_count": 49
        }
      ]
    },
    {
      "cell_type": "code",
      "source": [
        "model.evaluate(X_test, y_cat_test, verbose=0)"
      ],
      "metadata": {
        "colab": {
          "base_uri": "https://localhost:8080/"
        },
        "id": "4aI-zZjsXUKx",
        "outputId": "d32fe69d-076d-4de6-af45-76a8d6e7adaa"
      },
      "execution_count": 50,
      "outputs": [
        {
          "output_type": "execute_result",
          "data": {
            "text/plain": [
              "[0.9921534061431885, 0.671999990940094]"
            ]
          },
          "metadata": {},
          "execution_count": 50
        }
      ]
    },
    {
      "cell_type": "code",
      "source": [
        "# prediction\n",
        "pred = model.predict(X_test)\n",
        "pred_classes = [np.argmax(element) for element in pred]"
      ],
      "metadata": {
        "id": "z6rijvhkXYxP"
      },
      "execution_count": 51,
      "outputs": []
    },
    {
      "cell_type": "code",
      "source": [
        "pred_classes[:5]"
      ],
      "metadata": {
        "colab": {
          "base_uri": "https://localhost:8080/"
        },
        "id": "7WZ8pxeSYf8g",
        "outputId": "3619e394-5ad8-40bd-84e3-6533f4f2448a"
      },
      "execution_count": 52,
      "outputs": [
        {
          "output_type": "execute_result",
          "data": {
            "text/plain": [
              "[3, 8, 8, 0, 4]"
            ]
          },
          "metadata": {},
          "execution_count": 52
        }
      ]
    },
    {
      "cell_type": "code",
      "source": [
        "from sklearn.metrics import classification_report, confusion_matrix\n",
        "print(classification_report(y_test, pred_classes))\n",
        "print(confusion_matrix(y_test,pred_classes))"
      ],
      "metadata": {
        "colab": {
          "base_uri": "https://localhost:8080/"
        },
        "id": "I28-RMd5XkwW",
        "outputId": "965d5ad5-4729-4197-9ae3-9893d751acd6"
      },
      "execution_count": 53,
      "outputs": [
        {
          "output_type": "stream",
          "name": "stdout",
          "text": [
            "              precision    recall  f1-score   support\n",
            "\n",
            "           0       0.75      0.64      0.69      1000\n",
            "           1       0.79      0.80      0.79      1000\n",
            "           2       0.61      0.50      0.55      1000\n",
            "           3       0.51      0.44      0.47      1000\n",
            "           4       0.55      0.71      0.62      1000\n",
            "           5       0.63      0.52      0.57      1000\n",
            "           6       0.67      0.83      0.74      1000\n",
            "           7       0.72      0.73      0.72      1000\n",
            "           8       0.76      0.78      0.77      1000\n",
            "           9       0.72      0.78      0.75      1000\n",
            "\n",
            "    accuracy                           0.67     10000\n",
            "   macro avg       0.67      0.67      0.67     10000\n",
            "weighted avg       0.67      0.67      0.67     10000\n",
            "\n",
            "[[642  25  59  14  51   5  18  15 115  56]\n",
            " [ 20 798  10   9  12   3  11   2  31 104]\n",
            " [ 54   4 503  71 147  53  94  42  14  18]\n",
            " [ 15  14  60 439 124 132 127  53  15  21]\n",
            " [ 15   6  61  45 708  23  54  66  13   9]\n",
            " [ 13   5  56 193  70 516  50  68   8  21]\n",
            " [  5  14  28  31  53  18 828  11   4   8]\n",
            " [ 14  11  26  28 100  54  13 729   5  20]\n",
            " [ 45  52  16  12  19   5  16   6 782  47]\n",
            " [ 28  83   8  16  10   5  16  20  39 775]]\n"
          ]
        }
      ]
    },
    {
      "cell_type": "markdown",
      "source": [
        "Using CNN, we achieve 67% accuracy"
      ],
      "metadata": {
        "id": "mlKQhPT2YtNi"
      }
    },
    {
      "cell_type": "code",
      "source": [
        "from tensorflow.keras.models import load_model\n",
        "model.save('CIFAR10_CNN.h5')"
      ],
      "metadata": {
        "id": "FvIe1a03Yxsv"
      },
      "execution_count": 54,
      "outputs": []
    }
  ]
}