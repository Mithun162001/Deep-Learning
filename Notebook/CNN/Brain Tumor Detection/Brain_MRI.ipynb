{
  "nbformat": 4,
  "nbformat_minor": 0,
  "metadata": {
    "colab": {
      "name": "Brain MRI.ipynb",
      "provenance": [],
      "collapsed_sections": []
    },
    "kernelspec": {
      "name": "python3",
      "display_name": "Python 3"
    },
    "language_info": {
      "name": "python"
    },
    "accelerator": "GPU"
  },
  "cells": [
    {
      "cell_type": "markdown",
      "source": [
        "<h1>Brain MRI Images for Brain Tumor Detection</h1>"
      ],
      "metadata": {
        "id": "YiYovbY_rJ4m"
      }
    },
    {
      "cell_type": "markdown",
      "source": [
        "importing the libraries"
      ],
      "metadata": {
        "id": "CwsFw4bXne-3"
      }
    },
    {
      "cell_type": "code",
      "execution_count": 3,
      "metadata": {
        "id": "X3iSx0mtrF9s"
      },
      "outputs": [],
      "source": [
        "import numpy as np\n",
        "import pandas as pd\n",
        "import matplotlib.pyplot as plt\n",
        "import seaborn as sns\n",
        "import os\n",
        "import cv2\n",
        "from matplotlib.image import imread"
      ]
    },
    {
      "cell_type": "code",
      "source": [
        "from google.colab import drive\n",
        "drive.mount('/content/drive')"
      ],
      "metadata": {
        "colab": {
          "base_uri": "https://localhost:8080/"
        },
        "id": "dciorwbXrZb6",
        "outputId": "81a99e68-7726-4fa4-a2ad-8adf24dfe007"
      },
      "execution_count": 2,
      "outputs": [
        {
          "output_type": "stream",
          "name": "stdout",
          "text": [
            "Drive already mounted at /content/drive; to attempt to forcibly remount, call drive.mount(\"/content/drive\", force_remount=True).\n"
          ]
        }
      ]
    },
    {
      "cell_type": "code",
      "source": [
        "import zipfile\n",
        "zip_ref = zipfile.ZipFile('/content/drive/MyDrive/brain tumor.zip')\n",
        "zip_ref.extractall('/tmp')\n",
        "zip_ref.close()"
      ],
      "metadata": {
        "id": "o_0A0XqIrj17"
      },
      "execution_count": 6,
      "outputs": []
    },
    {
      "cell_type": "code",
      "source": [
        "os.listdir('/tmp/brain_tumor_dataset')"
      ],
      "metadata": {
        "colab": {
          "base_uri": "https://localhost:8080/"
        },
        "id": "1SzDkWhasFFu",
        "outputId": "105397ef-3377-49e0-d08d-ac638fba5197"
      },
      "execution_count": 4,
      "outputs": [
        {
          "output_type": "execute_result",
          "data": {
            "text/plain": [
              "['no', 'yes']"
            ]
          },
          "metadata": {},
          "execution_count": 4
        }
      ]
    },
    {
      "cell_type": "code",
      "source": [
        "len(os.listdir('/tmp/brain_tumor_dataset/yes/'))"
      ],
      "metadata": {
        "id": "NwrZXRGssPWC",
        "colab": {
          "base_uri": "https://localhost:8080/"
        },
        "outputId": "bbb55c8c-682a-4d21-9d50-9778b5138784"
      },
      "execution_count": 5,
      "outputs": [
        {
          "output_type": "execute_result",
          "data": {
            "text/plain": [
              "155"
            ]
          },
          "metadata": {},
          "execution_count": 5
        }
      ]
    },
    {
      "cell_type": "code",
      "source": [
        "len(os.listdir('/tmp/brain_tumor_dataset/no/'))"
      ],
      "metadata": {
        "id": "w2laJZDXsnUO",
        "colab": {
          "base_uri": "https://localhost:8080/"
        },
        "outputId": "b1def80e-69e6-4e0e-cff3-5c8d28a8b8d1"
      },
      "execution_count": 7,
      "outputs": [
        {
          "output_type": "execute_result",
          "data": {
            "text/plain": [
              "98"
            ]
          },
          "metadata": {},
          "execution_count": 7
        }
      ]
    },
    {
      "cell_type": "code",
      "source": [
        "root_dir = '/tmp/brain_tumor_dataset'\n",
        "number_of_images = {}\n",
        "\n",
        "for dir in os.listdir(root_dir):\n",
        "  number_of_images[dir] = len(os.listdir(os.path.join(root_dir,dir)))"
      ],
      "metadata": {
        "id": "aTS3fBz891Bg"
      },
      "execution_count": 8,
      "outputs": []
    },
    {
      "cell_type": "code",
      "source": [
        "number_of_images"
      ],
      "metadata": {
        "colab": {
          "base_uri": "https://localhost:8080/"
        },
        "id": "oSliArKS-e4S",
        "outputId": "18515892-cb29-4c16-a550-9753795515e8"
      },
      "execution_count": 8,
      "outputs": [
        {
          "output_type": "execute_result",
          "data": {
            "text/plain": [
              "{'no': 98, 'yes': 155}"
            ]
          },
          "metadata": {},
          "execution_count": 8
        }
      ]
    },
    {
      "cell_type": "markdown",
      "source": [
        "we shall split the dataset into:\n",
        "* 70% training data\n",
        "* 15% testing data\n",
        "* 15% validation data"
      ],
      "metadata": {
        "id": "wxvKvLqn-807"
      }
    },
    {
      "cell_type": "code",
      "source": [
        "import math\n",
        "import shutil"
      ],
      "metadata": {
        "id": "k5j7Xul6-r0Q"
      },
      "execution_count": 9,
      "outputs": []
    },
    {
      "cell_type": "markdown",
      "source": [
        "creating the folder - train, test, val"
      ],
      "metadata": {
        "id": "3EVJAQ7ZnjF6"
      }
    },
    {
      "cell_type": "code",
      "source": [
        "def datafolder(path,split):\n",
        "  if not os.path.exists(\"./\"+path):\n",
        "    os.mkdir(\"./\"+path)     # root --> train\n",
        "\n",
        "    for dir in os.listdir(root_dir):\n",
        "      os.makedirs(\"./\"+path+\"/\"+dir)   # root --> train --> yes/no\n",
        "      for img in np.random.choice(a=os.listdir(os.path.join(root_dir,dir)),\n",
        "                                  size=(math.floor(split*number_of_images[dir])),\n",
        "                                  replace=False):\n",
        "        O = os.path.join(root_dir, dir, img)    # origin\n",
        "        D = os.path.join(\"./\"+path,dir)         # destination  root -->train---> yes ---> imagefile\n",
        "        shutil.copy(O,D)\n",
        "        os.remove(O)\n",
        "  else:\n",
        "    print(\"Path already exists\")"
      ],
      "metadata": {
        "id": "6ReP19iJ_IUd"
      },
      "execution_count": 10,
      "outputs": []
    },
    {
      "cell_type": "code",
      "source": [
        "datafolder('train',0.7)"
      ],
      "metadata": {
        "id": "uZ5RmDdKAqUI"
      },
      "execution_count": 11,
      "outputs": []
    },
    {
      "cell_type": "code",
      "source": [
        "train_n_img = {}\n",
        "for dir in os.listdir(\"./train/\"):\n",
        "  train_n_img[dir] = len(os.listdir(os.path.join(\"./train/\",dir)))"
      ],
      "metadata": {
        "id": "fByeNWOAA0Hn"
      },
      "execution_count": 12,
      "outputs": []
    },
    {
      "cell_type": "code",
      "source": [
        "train_n_img"
      ],
      "metadata": {
        "colab": {
          "base_uri": "https://localhost:8080/"
        },
        "id": "KhF527SuCHGf",
        "outputId": "f5d58023-75bb-4a4e-fd33-e1b4fb1303c8"
      },
      "execution_count": 13,
      "outputs": [
        {
          "output_type": "execute_result",
          "data": {
            "text/plain": [
              "{'no': 68, 'yes': 108}"
            ]
          },
          "metadata": {},
          "execution_count": 13
        }
      ]
    },
    {
      "cell_type": "code",
      "source": [
        "datafolder('test',0.15)"
      ],
      "metadata": {
        "id": "eW0GRSwWCMO-"
      },
      "execution_count": 27,
      "outputs": []
    },
    {
      "cell_type": "code",
      "source": [
        "datafolder('val',0.15)"
      ],
      "metadata": {
        "id": "XWGpwomRCQDl"
      },
      "execution_count": 12,
      "outputs": []
    },
    {
      "cell_type": "code",
      "source": [
        "os.listdir('train'+'/yes')[0]\n",
        "plt.imshow(imread('train'+'/yes/Y1.jpg'))\n",
        "plt.title(\"A Brain Tumor MRI Image\")"
      ],
      "metadata": {
        "colab": {
          "base_uri": "https://localhost:8080/",
          "height": 298
        },
        "id": "GhUna5NOCzfK",
        "outputId": "30a82ebd-41d8-4f4c-92d1-fb72f659a082"
      },
      "execution_count": 13,
      "outputs": [
        {
          "output_type": "execute_result",
          "data": {
            "text/plain": [
              "Text(0.5, 1.0, 'A Brain Tumor MRI Image')"
            ]
          },
          "metadata": {},
          "execution_count": 13
        },
        {
          "output_type": "display_data",
          "data": {
            "text/plain": [
              "<Figure size 432x288 with 1 Axes>"
            ],
            "image/png": "[encoded data removed]"
          },
          "metadata": {
            "needs_background": "light"
          }
        }
      ]
    },
    {
      "cell_type": "code",
      "source": [
        "os.listdir('train'+'/no')[0]\n",
        "plt.imshow(imread('train'+'/no/1 no.jpeg'))\n",
        "plt.title(\"A Normal MRI Image without brain tumor\")"
      ],
      "metadata": {
        "colab": {
          "base_uri": "https://localhost:8080/",
          "height": 298
        },
        "id": "ULVmNKt7Gbe1",
        "outputId": "28dc6f90-0f5c-4505-a315-51c6d2c60e0a"
      },
      "execution_count": 14,
      "outputs": [
        {
          "output_type": "execute_result",
          "data": {
            "text/plain": [
              "Text(0.5, 1.0, 'A Normal MRI Image without brain tumor')"
            ]
          },
          "metadata": {},
          "execution_count": 14
        },
        {
          "output_type": "display_data",
          "data": {
            "text/plain": [
              "<Figure size 432x288 with 1 Axes>"
            ],
            "image/png": "[encoded data removed]"
          },
          "metadata": {
            "needs_background": "light"
          }
        }
      ]
    },
    {
      "cell_type": "code",
      "source": [
        "fig, axes = plt.subplots(1,2)\n",
        "axes[0].imshow(imread('train'+'/yes/Y1.jpg'))\n",
        "axes[0].title.set_text('Brain Tumor MRI Image')\n",
        "\n",
        "axes[1].imshow(imread('train'+'/no/11 no.jpg'))\n",
        "axes[1].title.set_text('A Normal MRI\\n Image without brain tumor')\n",
        "\n",
        "plt.tight_layout()\n",
        "plt.autoscale(enable=True, axis='both')"
      ],
      "metadata": {
        "colab": {
          "base_uri": "https://localhost:8080/",
          "height": 270
        },
        "id": "056dB5arGtsm",
        "outputId": "af785a88-e131-4f27-e829-158b4c2734e3"
      },
      "execution_count": 16,
      "outputs": [
        {
          "output_type": "display_data",
          "data": {
            "text/plain": [
              "<Figure size 432x288 with 2 Axes>"
            ],
            "image/png": "[encoded data removed]"
          },
          "metadata": {
            "needs_background": "light"
          }
        }
      ]
    },
    {
      "cell_type": "code",
      "source": [
        "imread('train'+'/yes/Y1.jpg').shape"
      ],
      "metadata": {
        "colab": {
          "base_uri": "https://localhost:8080/"
        },
        "id": "UVSXsJ9PI1Yh",
        "outputId": "9a500221-22bf-40ca-a4e7-f597d6ff0e3b"
      },
      "execution_count": 17,
      "outputs": [
        {
          "output_type": "execute_result",
          "data": {
            "text/plain": [
              "(218, 180, 3)"
            ]
          },
          "metadata": {},
          "execution_count": 17
        }
      ]
    },
    {
      "cell_type": "markdown",
      "source": [
        "# Building CNN model"
      ],
      "metadata": {
        "id": "YnIGNuKGnpLQ"
      }
    },
    {
      "cell_type": "code",
      "source": [
        "from tensorflow.keras.models import Sequential\n",
        "from tensorflow.keras.layers import Dense, Conv2D, MaxPool2D, Flatten, Dropout"
      ],
      "metadata": {
        "id": "L64e0q4KCeTQ"
      },
      "execution_count": 18,
      "outputs": []
    },
    {
      "cell_type": "code",
      "source": [
        "model = Sequential()\n",
        "model.add(Conv2D(filters=16, kernel_size=(3,3), input_shape=(150,150,3), activation='relu'))\n",
        "model.add(MaxPool2D(pool_size=(2,2)))\n",
        "\n",
        "model.add(Conv2D(filters=32, kernel_size=(3,3), activation='relu'))\n",
        "model.add(MaxPool2D(pool_size=(2,2)))\n",
        "\n",
        "model.add(Conv2D(filters=64, kernel_size=(3,3), activation='relu'))\n",
        "model.add(MaxPool2D(pool_size=(2,2)))\n",
        "\n",
        "model.add(Dropout(0.2))\n",
        "\n",
        "model.add(Flatten())\n",
        "\n",
        "model.add(Dense(units=128, activation='relu'))\n",
        "model.add(Dropout(0.2))\n",
        "model.add(Dense(units=1, activation='sigmoid'))"
      ],
      "metadata": {
        "id": "udCzuoJkCq6x"
      },
      "execution_count": 19,
      "outputs": []
    },
    {
      "cell_type": "code",
      "source": [
        "model.compile(optimizer='adam', loss='binary_crossentropy', metrics=['accuracy'])"
      ],
      "metadata": {
        "id": "af2bl10FJ04n"
      },
      "execution_count": 20,
      "outputs": []
    },
    {
      "cell_type": "code",
      "source": [
        "model.summary()"
      ],
      "metadata": {
        "colab": {
          "base_uri": "https://localhost:8080/"
        },
        "id": "5vmpIdD_J9H4",
        "outputId": "d402c14f-b46b-44f6-81a9-ac9acae0c519"
      },
      "execution_count": 21,
      "outputs": [
        {
          "output_type": "stream",
          "name": "stdout",
          "text": [
            "Model: \"sequential\"\n",
            "_________________________________________________________________\n",
            " Layer (type)                Output Shape              Param #   \n",
            "=================================================================\n",
            " conv2d (Conv2D)             (None, 148, 148, 16)      448       \n",
            "                                                                 \n",
            " max_pooling2d (MaxPooling2D  (None, 74, 74, 16)       0         \n",
            " )                                                               \n",
            "                                                                 \n",
            " conv2d_1 (Conv2D)           (None, 72, 72, 32)        4640      \n",
            "                                                                 \n",
            " max_pooling2d_1 (MaxPooling  (None, 36, 36, 32)       0         \n",
            " 2D)                                                             \n",
            "                                                                 \n",
            " conv2d_2 (Conv2D)           (None, 34, 34, 64)        18496     \n",
            "                                                                 \n",
            " max_pooling2d_2 (MaxPooling  (None, 17, 17, 64)       0         \n",
            " 2D)                                                             \n",
            "                                                                 \n",
            " dropout (Dropout)           (None, 17, 17, 64)        0         \n",
            "                                                                 \n",
            " flatten (Flatten)           (None, 18496)             0         \n",
            "                                                                 \n",
            " dense (Dense)               (None, 128)               2367616   \n",
            "                                                                 \n",
            " dropout_1 (Dropout)         (None, 128)               0         \n",
            "                                                                 \n",
            " dense_1 (Dense)             (None, 1)                 129       \n",
            "                                                                 \n",
            "=================================================================\n",
            "Total params: 2,391,329\n",
            "Trainable params: 2,391,329\n",
            "Non-trainable params: 0\n",
            "_________________________________________________________________\n"
          ]
        }
      ]
    },
    {
      "cell_type": "markdown",
      "source": [
        "Data pre-processing"
      ],
      "metadata": {
        "id": "16MfZp-znwMB"
      }
    },
    {
      "cell_type": "code",
      "source": [
        "from tensorflow.keras.preprocessing.image import ImageDataGenerator"
      ],
      "metadata": {
        "id": "Ixl_i3evKJAF"
      },
      "execution_count": 22,
      "outputs": []
    },
    {
      "cell_type": "code",
      "source": [
        "def preprocessing(path):\n",
        "  image_data = ImageDataGenerator(rotation_range=10,\n",
        "                                   width_shift_range=0.1,\n",
        "                                   zoom_range=0.2,\n",
        "                                   rescale=1/255,\n",
        "                                   shear_range=0.2,\n",
        "                                   horizontal_flip=True)\n",
        "  image = image_data.flow_from_directory(directory=path, target_size=(150,150),\n",
        "                                         batch_size=16, class_mode='binary')\n",
        "  return image"
      ],
      "metadata": {
        "id": "T6qmN6PDKRJ0"
      },
      "execution_count": 23,
      "outputs": []
    },
    {
      "cell_type": "code",
      "source": [
        "train_data = preprocessing('/content/train')"
      ],
      "metadata": {
        "colab": {
          "base_uri": "https://localhost:8080/"
        },
        "id": "7tIAkPnQLY9d",
        "outputId": "515c98fd-31af-4931-b8a7-2b0bfc308846"
      },
      "execution_count": 24,
      "outputs": [
        {
          "output_type": "stream",
          "name": "stdout",
          "text": [
            "Found 176 images belonging to 2 classes.\n"
          ]
        }
      ]
    },
    {
      "cell_type": "code",
      "source": [
        "def preprocessing2(path):\n",
        "  image_data = ImageDataGenerator(rescale=1/255)\n",
        "  image = image_data.flow_from_directory(directory=path, target_size=(150,150),\n",
        "                                         batch_size=16, class_mode='binary',\n",
        "                                         shuffle=False)\n",
        "  return image"
      ],
      "metadata": {
        "id": "O3nvvYmtLhSZ"
      },
      "execution_count": 25,
      "outputs": []
    },
    {
      "cell_type": "code",
      "source": [
        "test_data = preprocessing2('/content/test')\n",
        "val_data = preprocessing2('/content/val')"
      ],
      "metadata": {
        "colab": {
          "base_uri": "https://localhost:8080/"
        },
        "id": "fZK7mDgmL1qW",
        "outputId": "ca826eec-1a87-497b-e06c-4225e13b8a80"
      },
      "execution_count": 28,
      "outputs": [
        {
          "output_type": "stream",
          "name": "stdout",
          "text": [
            "Found 37 images belonging to 2 classes.\n",
            "Found 37 images belonging to 2 classes.\n"
          ]
        }
      ]
    },
    {
      "cell_type": "code",
      "source": [
        "from tensorflow.keras.callbacks import EarlyStopping, ModelCheckpoint\n",
        "early_stop = EarlyStopping(monitor='val_loss', patience=5)\n",
        "mc = ModelCheckpoint(monitor='val_loss', filepath='./bestmodel.h5',save_best_only=True, mode='auto')\n",
        "\n",
        "cb = [early_stop,mc]"
      ],
      "metadata": {
        "id": "h3GZzr-LMXtO"
      },
      "execution_count": 29,
      "outputs": []
    },
    {
      "cell_type": "code",
      "source": [
        "model.fit(train_data, epochs=50, validation_data=val_data,callbacks=cb)"
      ],
      "metadata": {
        "colab": {
          "base_uri": "https://localhost:8080/"
        },
        "id": "xBJz0EWTMrWB",
        "outputId": "a42a4e0e-fe84-455f-9a1e-afe8d722e783"
      },
      "execution_count": 30,
      "outputs": [
        {
          "output_type": "stream",
          "name": "stdout",
          "text": [
            "Epoch 1/50\n",
            "11/11 [==============================] - 14s 186ms/step - loss: 0.8588 - accuracy: 0.6364 - val_loss: 0.5923 - val_accuracy: 0.6216\n",
            "Epoch 2/50\n",
            "11/11 [==============================] - 2s 173ms/step - loss: 0.6256 - accuracy: 0.6364 - val_loss: 0.5369 - val_accuracy: 0.7838\n",
            "Epoch 3/50\n",
            "11/11 [==============================] - 2s 163ms/step - loss: 0.5830 - accuracy: 0.7273 - val_loss: 0.4502 - val_accuracy: 0.7838\n",
            "Epoch 4/50\n",
            "11/11 [==============================] - 2s 165ms/step - loss: 0.5591 - accuracy: 0.7330 - val_loss: 0.4298 - val_accuracy: 0.8108\n",
            "Epoch 5/50\n",
            "11/11 [==============================] - 2s 163ms/step - loss: 0.5795 - accuracy: 0.6932 - val_loss: 0.4817 - val_accuracy: 0.7568\n",
            "Epoch 6/50\n",
            "11/11 [==============================] - 2s 157ms/step - loss: 0.5249 - accuracy: 0.7500 - val_loss: 0.4436 - val_accuracy: 0.7838\n",
            "Epoch 7/50\n",
            "11/11 [==============================] - 2s 155ms/step - loss: 0.4765 - accuracy: 0.7557 - val_loss: 0.5901 - val_accuracy: 0.6757\n",
            "Epoch 8/50\n",
            "11/11 [==============================] - 2s 172ms/step - loss: 0.5070 - accuracy: 0.7670 - val_loss: 0.4297 - val_accuracy: 0.7838\n",
            "Epoch 9/50\n",
            "11/11 [==============================] - 2s 155ms/step - loss: 0.5093 - accuracy: 0.7500 - val_loss: 0.4339 - val_accuracy: 0.7838\n",
            "Epoch 10/50\n",
            "11/11 [==============================] - 2s 158ms/step - loss: 0.5110 - accuracy: 0.7557 - val_loss: 0.5085 - val_accuracy: 0.7297\n",
            "Epoch 11/50\n",
            "11/11 [==============================] - 2s 175ms/step - loss: 0.4728 - accuracy: 0.7841 - val_loss: 0.3855 - val_accuracy: 0.7838\n",
            "Epoch 12/50\n",
            "11/11 [==============================] - 2s 155ms/step - loss: 0.4870 - accuracy: 0.7727 - val_loss: 0.3901 - val_accuracy: 0.8108\n",
            "Epoch 13/50\n",
            "11/11 [==============================] - 2s 153ms/step - loss: 0.4938 - accuracy: 0.7841 - val_loss: 0.4458 - val_accuracy: 0.7297\n",
            "Epoch 14/50\n",
            "11/11 [==============================] - 2s 165ms/step - loss: 0.4884 - accuracy: 0.7841 - val_loss: 0.4017 - val_accuracy: 0.8108\n",
            "Epoch 15/50\n",
            "11/11 [==============================] - 2s 155ms/step - loss: 0.4431 - accuracy: 0.8295 - val_loss: 0.3992 - val_accuracy: 0.8649\n",
            "Epoch 16/50\n",
            "11/11 [==============================] - 2s 164ms/step - loss: 0.4623 - accuracy: 0.7841 - val_loss: 0.3745 - val_accuracy: 0.7568\n",
            "Epoch 17/50\n",
            "11/11 [==============================] - 2s 161ms/step - loss: 0.4726 - accuracy: 0.7727 - val_loss: 0.4275 - val_accuracy: 0.8108\n",
            "Epoch 18/50\n",
            "11/11 [==============================] - 2s 174ms/step - loss: 0.4582 - accuracy: 0.7784 - val_loss: 0.5081 - val_accuracy: 0.8919\n",
            "Epoch 19/50\n",
            "11/11 [==============================] - 2s 155ms/step - loss: 0.5086 - accuracy: 0.7500 - val_loss: 0.4006 - val_accuracy: 0.8108\n",
            "Epoch 20/50\n",
            "11/11 [==============================] - 2s 159ms/step - loss: 0.4517 - accuracy: 0.7784 - val_loss: 0.3794 - val_accuracy: 0.8378\n",
            "Epoch 21/50\n",
            "11/11 [==============================] - 2s 157ms/step - loss: 0.4488 - accuracy: 0.8182 - val_loss: 0.5393 - val_accuracy: 0.7838\n"
          ]
        },
        {
          "output_type": "execute_result",
          "data": {
            "text/plain": [
              "<keras.callbacks.History at 0x7f1242583290>"
            ]
          },
          "metadata": {},
          "execution_count": 30
        }
      ]
    },
    {
      "cell_type": "code",
      "source": [
        "df = pd.DataFrame(model.history.history)\n",
        "df"
      ],
      "metadata": {
        "colab": {
          "base_uri": "https://localhost:8080/",
          "height": 708
        },
        "id": "vkHsYGxiM6ws",
        "outputId": "2625dd1a-c5cb-4563-cfc9-b9009e1951c8"
      },
      "execution_count": 31,
      "outputs": [
        {
          "output_type": "execute_result",
          "data": {
            "text/plain": [
              "        loss  accuracy  val_loss  val_accuracy\n",
              "0   0.858751  0.636364  0.592322      0.621622\n",
              "1   0.625599  0.636364  0.536896      0.783784\n",
              "2   0.583039  0.727273  0.450206      0.783784\n",
              "3   0.559138  0.732955  0.429759      0.810811\n",
              "4   0.579545  0.693182  0.481665      0.756757\n",
              "5   0.524920  0.750000  0.443613      0.783784\n",
              "6   0.476526  0.755682  0.590077      0.675676\n",
              "7   0.507018  0.767045  0.429682      0.783784\n",
              "8   0.509310  0.750000  0.433856      0.783784\n",
              "9   0.511023  0.755682  0.508485      0.729730\n",
              "10  0.472802  0.784091  0.385536      0.783784\n",
              "11  0.487036  0.772727  0.390055      0.810811\n",
              "12  0.493834  0.784091  0.445825      0.729730\n",
              "13  0.488382  0.784091  0.401732      0.810811\n",
              "14  0.443078  0.829545  0.399238      0.864865\n",
              "15  0.462256  0.784091  0.374510      0.756757\n",
              "16  0.472596  0.772727  0.427517      0.810811\n",
              "17  0.458246  0.778409  0.508059      0.891892\n",
              "18  0.508555  0.750000  0.400554      0.810811\n",
              "19  0.451739  0.778409  0.379368      0.837838\n",
              "20  0.448755  0.818182  0.539293      0.783784"
            ],
            "text/html": [
              "\n",
              "  <div id=\"df-e3b8549d-cb20-42ce-8e4e-8aad2ab066e0\">\n",
              "    <div class=\"colab-df-container\">\n",
              "      <div>\n",
              "<style scoped>\n",
              "    .dataframe tbody tr th:only-of-type {\n",
              "        vertical-align: middle;\n",
              "    }\n",
              "\n",
              "    .dataframe tbody tr th {\n",
              "        vertical-align: top;\n",
              "    }\n",
              "\n",
              "    .dataframe thead th {\n",
              "        text-align: right;\n",
              "    }\n",
              "</style>\n",
              "<table border=\"1\" class=\"dataframe\">\n",
              "  <thead>\n",
              "    <tr style=\"text-align: right;\">\n",
              "      <th></th>\n",
              "      <th>loss</th>\n",
              "      <th>accuracy</th>\n",
              "      <th>val_loss</th>\n",
              "      <th>val_accuracy</th>\n",
              "    </tr>\n",
              "  </thead>\n",
              "  <tbody>\n",
              "    <tr>\n",
              "      <th>0</th>\n",
              "      <td>0.858751</td>\n",
              "      <td>0.636364</td>\n",
              "      <td>0.592322</td>\n",
              "      <td>0.621622</td>\n",
              "    </tr>\n",
              "    <tr>\n",
              "      <th>1</th>\n",
              "      <td>0.625599</td>\n",
              "      <td>0.636364</td>\n",
              "      <td>0.536896</td>\n",
              "      <td>0.783784</td>\n",
              "    </tr>\n",
              "    <tr>\n",
              "      <th>2</th>\n",
              "      <td>0.583039</td>\n",
              "      <td>0.727273</td>\n",
              "      <td>0.450206</td>\n",
              "      <td>0.783784</td>\n",
              "    </tr>\n",
              "    <tr>\n",
              "      <th>3</th>\n",
              "      <td>0.559138</td>\n",
              "      <td>0.732955</td>\n",
              "      <td>0.429759</td>\n",
              "      <td>0.810811</td>\n",
              "    </tr>\n",
              "    <tr>\n",
              "      <th>4</th>\n",
              "      <td>0.579545</td>\n",
              "      <td>0.693182</td>\n",
              "      <td>0.481665</td>\n",
              "      <td>0.756757</td>\n",
              "    </tr>\n",
              "    <tr>\n",
              "      <th>5</th>\n",
              "      <td>0.524920</td>\n",
              "      <td>0.750000</td>\n",
              "      <td>0.443613</td>\n",
              "      <td>0.783784</td>\n",
              "    </tr>\n",
              "    <tr>\n",
              "      <th>6</th>\n",
              "      <td>0.476526</td>\n",
              "      <td>0.755682</td>\n",
              "      <td>0.590077</td>\n",
              "      <td>0.675676</td>\n",
              "    </tr>\n",
              "    <tr>\n",
              "      <th>7</th>\n",
              "      <td>0.507018</td>\n",
              "      <td>0.767045</td>\n",
              "      <td>0.429682</td>\n",
              "      <td>0.783784</td>\n",
              "    </tr>\n",
              "    <tr>\n",
              "      <th>8</th>\n",
              "      <td>0.509310</td>\n",
              "      <td>0.750000</td>\n",
              "      <td>0.433856</td>\n",
              "      <td>0.783784</td>\n",
              "    </tr>\n",
              "    <tr>\n",
              "      <th>9</th>\n",
              "      <td>0.511023</td>\n",
              "      <td>0.755682</td>\n",
              "      <td>0.508485</td>\n",
              "      <td>0.729730</td>\n",
              "    </tr>\n",
              "    <tr>\n",
              "      <th>10</th>\n",
              "      <td>0.472802</td>\n",
              "      <td>0.784091</td>\n",
              "      <td>0.385536</td>\n",
              "      <td>0.783784</td>\n",
              "    </tr>\n",
              "    <tr>\n",
              "      <th>11</th>\n",
              "      <td>0.487036</td>\n",
              "      <td>0.772727</td>\n",
              "      <td>0.390055</td>\n",
              "      <td>0.810811</td>\n",
              "    </tr>\n",
              "    <tr>\n",
              "      <th>12</th>\n",
              "      <td>0.493834</td>\n",
              "      <td>0.784091</td>\n",
              "      <td>0.445825</td>\n",
              "      <td>0.729730</td>\n",
              "    </tr>\n",
              "    <tr>\n",
              "      <th>13</th>\n",
              "      <td>0.488382</td>\n",
              "      <td>0.784091</td>\n",
              "      <td>0.401732</td>\n",
              "      <td>0.810811</td>\n",
              "    </tr>\n",
              "    <tr>\n",
              "      <th>14</th>\n",
              "      <td>0.443078</td>\n",
              "      <td>0.829545</td>\n",
              "      <td>0.399238</td>\n",
              "      <td>0.864865</td>\n",
              "    </tr>\n",
              "    <tr>\n",
              "      <th>15</th>\n",
              "      <td>0.462256</td>\n",
              "      <td>0.784091</td>\n",
              "      <td>0.374510</td>\n",
              "      <td>0.756757</td>\n",
              "    </tr>\n",
              "    <tr>\n",
              "      <th>16</th>\n",
              "      <td>0.472596</td>\n",
              "      <td>0.772727</td>\n",
              "      <td>0.427517</td>\n",
              "      <td>0.810811</td>\n",
              "    </tr>\n",
              "    <tr>\n",
              "      <th>17</th>\n",
              "      <td>0.458246</td>\n",
              "      <td>0.778409</td>\n",
              "      <td>0.508059</td>\n",
              "      <td>0.891892</td>\n",
              "    </tr>\n",
              "    <tr>\n",
              "      <th>18</th>\n",
              "      <td>0.508555</td>\n",
              "      <td>0.750000</td>\n",
              "      <td>0.400554</td>\n",
              "      <td>0.810811</td>\n",
              "    </tr>\n",
              "    <tr>\n",
              "      <th>19</th>\n",
              "      <td>0.451739</td>\n",
              "      <td>0.778409</td>\n",
              "      <td>0.379368</td>\n",
              "      <td>0.837838</td>\n",
              "    </tr>\n",
              "    <tr>\n",
              "      <th>20</th>\n",
              "      <td>0.448755</td>\n",
              "      <td>0.818182</td>\n",
              "      <td>0.539293</td>\n",
              "      <td>0.783784</td>\n",
              "    </tr>\n",
              "  </tbody>\n",
              "</table>\n",
              "</div>\n",
              "      <button class=\"colab-df-convert\" onclick=\"convertToInteractive('df-e3b8549d-cb20-42ce-8e4e-8aad2ab066e0')\"\n",
              "              title=\"Convert this dataframe to an interactive table.\"\n",
              "              style=\"display:none;\">\n",
              "        \n",
              "  <svg xmlns=\"http://www.w3.org/2000/svg\" height=\"24px\"viewBox=\"0 0 24 24\"\n",
              "       width=\"24px\">\n",
              "    <path d=\"M0 0h24v24H0V0z\" fill=\"none\"/>\n",
              "    <path d=\"M18.56 5.44l.94 2.06.94-2.06 2.06-.94-2.06-.94-.94-2.06-.94 2.06-2.06.94zm-11 1L8.5 8.5l.94-2.06 2.06-.94-2.06-.94L8.5 2.5l-.94 2.06-2.06.94zm10 10l.94 2.06.94-2.06 2.06-.94-2.06-.94-.94-2.06-.94 2.06-2.06.94z\"/><path d=\"M17.41 7.96l-1.37-1.37c-.4-.4-.92-.59-1.43-.59-.52 0-1.04.2-1.43.59L10.3 9.45l-7.72 7.72c-.78.78-.78 2.05 0 2.83L4 21.41c.39.39.9.59 1.41.59.51 0 1.02-.2 1.41-.59l7.78-7.78 2.81-2.81c.8-.78.8-2.07 0-2.86zM5.41 20L4 18.59l7.72-7.72 1.47 1.35L5.41 20z\"/>\n",
              "  </svg>\n",
              "      </button>\n",
              "      \n",
              "  <style>\n",
              "    .colab-df-container {\n",
              "      display:flex;\n",
              "      flex-wrap:wrap;\n",
              "      gap: 12px;\n",
              "    }\n",
              "\n",
              "    .colab-df-convert {\n",
              "      background-color: #E8F0FE;\n",
              "      border: none;\n",
              "      border-radius: 50%;\n",
              "      cursor: pointer;\n",
              "      display: none;\n",
              "      fill: #1967D2;\n",
              "      height: 32px;\n",
              "      padding: 0 0 0 0;\n",
              "      width: 32px;\n",
              "    }\n",
              "\n",
              "    .colab-df-convert:hover {\n",
              "      background-color: #E2EBFA;\n",
              "      box-shadow: 0px 1px 2px rgba(60, 64, 67, 0.3), 0px 1px 3px 1px rgba(60, 64, 67, 0.15);\n",
              "      fill: #174EA6;\n",
              "    }\n",
              "\n",
              "    [theme=dark] .colab-df-convert {\n",
              "      background-color: #3B4455;\n",
              "      fill: #D2E3FC;\n",
              "    }\n",
              "\n",
              "    [theme=dark] .colab-df-convert:hover {\n",
              "      background-color: #434B5C;\n",
              "      box-shadow: 0px 1px 3px 1px rgba(0, 0, 0, 0.15);\n",
              "      filter: drop-shadow(0px 1px 2px rgba(0, 0, 0, 0.3));\n",
              "      fill: #FFFFFF;\n",
              "    }\n",
              "  </style>\n",
              "\n",
              "      <script>\n",
              "        const buttonEl =\n",
              "          document.querySelector('#df-e3b8549d-cb20-42ce-8e4e-8aad2ab066e0 button.colab-df-convert');\n",
              "        buttonEl.style.display =\n",
              "          google.colab.kernel.accessAllowed ? 'block' : 'none';\n",
              "\n",
              "        async function convertToInteractive(key) {\n",
              "          const element = document.querySelector('#df-e3b8549d-cb20-42ce-8e4e-8aad2ab066e0');\n",
              "          const dataTable =\n",
              "            await google.colab.kernel.invokeFunction('convertToInteractive',\n",
              "                                                     [key], {});\n",
              "          if (!dataTable) return;\n",
              "\n",
              "          const docLinkHtml = 'Like what you see? Visit the ' +\n",
              "            '<a target=\"_blank\" href=https://colab.research.google.com/notebooks/data_table.ipynb>data table notebook</a>'\n",
              "            + ' to learn more about interactive tables.';\n",
              "          element.innerHTML = '';\n",
              "          dataTable['output_type'] = 'display_data';\n",
              "          await google.colab.output.renderOutput(dataTable, element);\n",
              "          const docLink = document.createElement('div');\n",
              "          docLink.innerHTML = docLinkHtml;\n",
              "          element.appendChild(docLink);\n",
              "        }\n",
              "      </script>\n",
              "    </div>\n",
              "  </div>\n",
              "  "
            ]
          },
          "metadata": {},
          "execution_count": 31
        }
      ]
    },
    {
      "cell_type": "code",
      "source": [
        "df[['loss','val_loss']].plot()"
      ],
      "metadata": {
        "colab": {
          "base_uri": "https://localhost:8080/",
          "height": 282
        },
        "id": "1oqevr47Oafk",
        "outputId": "a88a80f3-a1ee-4104-ab8e-f17afac8cfde"
      },
      "execution_count": 32,
      "outputs": [
        {
          "output_type": "execute_result",
          "data": {
            "text/plain": [
              "<matplotlib.axes._subplots.AxesSubplot at 0x7f123ff85c50>"
            ]
          },
          "metadata": {},
          "execution_count": 32
        },
        {
          "output_type": "display_data",
          "data": {
            "text/plain": [
              "<Figure size 432x288 with 1 Axes>"
            ],
            "image/png": "[encoded data removed]"
          },
          "metadata": {
            "needs_background": "light"
          }
        }
      ]
    },
    {
      "cell_type": "code",
      "source": [
        "from tensorflow.keras.models import load_model\n",
        "best_model = load_model(\"./bestmodel.h5\")"
      ],
      "metadata": {
        "id": "KR7_nUE-Opiu"
      },
      "execution_count": 33,
      "outputs": []
    },
    {
      "cell_type": "markdown",
      "source": [
        "Model Evaluation"
      ],
      "metadata": {
        "id": "EdB8AFP3n0hZ"
      }
    },
    {
      "cell_type": "code",
      "source": [
        "acc = best_model.evaluate(test_data)\n",
        "print(\"The accuracy of our model: \",acc[1]*100,\"%\")"
      ],
      "metadata": {
        "colab": {
          "base_uri": "https://localhost:8080/"
        },
        "id": "vNObbFXQO1Yc",
        "outputId": "84ac9825-3f6e-4d55-c5ce-a80eb8705b3d"
      },
      "execution_count": 34,
      "outputs": [
        {
          "output_type": "stream",
          "name": "stdout",
          "text": [
            "3/3 [==============================] - 0s 48ms/step - loss: 0.5504 - accuracy: 0.7568\n",
            "The accuracy of our model:  75.67567825317383 %\n"
          ]
        }
      ]
    },
    {
      "cell_type": "code",
      "source": [
        "from tensorflow.keras.preprocessing import image\n",
        "img = image.load_img('/content/test/yes/Y10.jpg', target_size=(150,150))\n",
        "img_arr = image.img_to_array(img)/255\n",
        "img_arr = np.expand_dims(img_arr, axis=0)"
      ],
      "metadata": {
        "id": "SUgZiG4RO7bv"
      },
      "execution_count": 36,
      "outputs": []
    },
    {
      "cell_type": "code",
      "source": [
        "plt.imshow(img_arr.reshape(150,150,3))\n",
        "plt.title(\"to be predicted\")"
      ],
      "metadata": {
        "colab": {
          "base_uri": "https://localhost:8080/",
          "height": 298
        },
        "id": "i2cmaWLlQ0bc",
        "outputId": "45c0dcf5-54e9-4b2c-9978-6fdeda5bb758"
      },
      "execution_count": 37,
      "outputs": [
        {
          "output_type": "execute_result",
          "data": {
            "text/plain": [
              "Text(0.5, 1.0, 'to be predicted')"
            ]
          },
          "metadata": {},
          "execution_count": 37
        },
        {
          "output_type": "display_data",
          "data": {
            "text/plain": [
              "<Figure size 432x288 with 1 Axes>"
            ],
            "image/png": "[encoded data removed]"
          },
          "metadata": {
            "needs_background": "light"
          }
        }
      ]
    },
    {
      "cell_type": "code",
      "source": [
        "pred = best_model.predict(img_arr)\n",
        "pred_classes = (pred > 0.5).astype(\"int32\")\n",
        "pred_classes"
      ],
      "metadata": {
        "colab": {
          "base_uri": "https://localhost:8080/"
        },
        "id": "ZrT5RnvdQ5ms",
        "outputId": "2fae1225-62a3-46f0-b00b-d03a84910c91"
      },
      "execution_count": 38,
      "outputs": [
        {
          "output_type": "execute_result",
          "data": {
            "text/plain": [
              "array([[1]], dtype=int32)"
            ]
          },
          "metadata": {},
          "execution_count": 38
        }
      ]
    },
    {
      "cell_type": "code",
      "source": [
        "if pred_classes == 0:\n",
        "  print(\"The image is not having a tumor\")\n",
        "elif pred_classes == 1:\n",
        "  print(\"The image is having a tumor\")\n",
        "else:\n",
        "  print(\"Not known!!!\")"
      ],
      "metadata": {
        "colab": {
          "base_uri": "https://localhost:8080/"
        },
        "id": "OVxYxjPhR5Z3",
        "outputId": "ccf65b02-9aff-4266-a429-be03bdf1341c"
      },
      "execution_count": 39,
      "outputs": [
        {
          "output_type": "stream",
          "name": "stdout",
          "text": [
            "The image is having a tumor\n"
          ]
        }
      ]
    },
    {
      "cell_type": "code",
      "source": [
        "test_data.class_indices"
      ],
      "metadata": {
        "colab": {
          "base_uri": "https://localhost:8080/"
        },
        "id": "BNXJBa82BqHK",
        "outputId": "f5eb1cfd-14ae-42e8-97cd-9108f5021ce6"
      },
      "execution_count": 40,
      "outputs": [
        {
          "output_type": "execute_result",
          "data": {
            "text/plain": [
              "{'no': 0, 'yes': 1}"
            ]
          },
          "metadata": {},
          "execution_count": 40
        }
      ]
    },
    {
      "cell_type": "code",
      "source": [
        "pred_total = best_model.predict(test_data)\n",
        "pred_classes_total = (pred_total > 0.5).astype(\"int32\")"
      ],
      "metadata": {
        "id": "Zt9KBWMCCdDN"
      },
      "execution_count": 41,
      "outputs": []
    },
    {
      "cell_type": "code",
      "source": [
        "from sklearn.metrics import classification_report, confusion_matrix\n",
        "print(classification_report(test_data.classes, pred_classes_total))\n",
        "print(confusion_matrix(test_data.classes, pred_classes_total))"
      ],
      "metadata": {
        "colab": {
          "base_uri": "https://localhost:8080/"
        },
        "id": "L0FEorQLCDOG",
        "outputId": "0cd5d077-69b4-4ce7-a2ce-2778995a6ea1"
      },
      "execution_count": 42,
      "outputs": [
        {
          "output_type": "stream",
          "name": "stdout",
          "text": [
            "              precision    recall  f1-score   support\n",
            "\n",
            "           0       0.69      0.64      0.67        14\n",
            "           1       0.79      0.83      0.81        23\n",
            "\n",
            "    accuracy                           0.76        37\n",
            "   macro avg       0.74      0.73      0.74        37\n",
            "weighted avg       0.75      0.76      0.75        37\n",
            "\n",
            "[[ 9  5]\n",
            " [ 4 19]]\n"
          ]
        }
      ]
    },
    {
      "cell_type": "markdown",
      "source": [
        "We have achieved 76% accuracy"
      ],
      "metadata": {
        "id": "lYtcSeI9DiuL"
      }
    },
    {
      "cell_type": "markdown",
      "source": [
        "# Transfer Learning using MobileNet"
      ],
      "metadata": {
        "id": "QI5eILEeI43y"
      }
    },
    {
      "cell_type": "code",
      "source": [
        "from tensorflow.keras.models import Model, load_model\n",
        "from tensorflow.keras.layers import Dense, Flatten\n",
        "from tensorflow.keras.applications.mobilenet import MobileNet, preprocess_input"
      ],
      "metadata": {
        "id": "BmLIhi3cJQf_"
      },
      "execution_count": 43,
      "outputs": []
    },
    {
      "cell_type": "markdown",
      "source": [
        "Data pre-processing"
      ],
      "metadata": {
        "id": "tEihPyjvn4lO"
      }
    },
    {
      "cell_type": "code",
      "source": [
        "def preprocessing(path):\n",
        "  image_data = ImageDataGenerator(rotation_range=10,\n",
        "                                   width_shift_range=0.1,\n",
        "                                   zoom_range=0.2,\n",
        "                                   preprocessing_function=preprocess_input,\n",
        "                                   shear_range=0.2,\n",
        "                                   horizontal_flip=True)\n",
        "  image = image_data.flow_from_directory(directory=path, target_size=(150,150),\n",
        "                                         batch_size=16, class_mode='binary')\n",
        "  return image"
      ],
      "metadata": {
        "id": "QZlWXObUDhH_"
      },
      "execution_count": 44,
      "outputs": []
    },
    {
      "cell_type": "code",
      "source": [
        "train_data = preprocessing('/content/train')"
      ],
      "metadata": {
        "colab": {
          "base_uri": "https://localhost:8080/"
        },
        "id": "KDdygTJ0JFzv",
        "outputId": "46ba93a8-dec1-4371-af76-ddce16c549d5"
      },
      "execution_count": 45,
      "outputs": [
        {
          "output_type": "stream",
          "name": "stdout",
          "text": [
            "Found 176 images belonging to 2 classes.\n"
          ]
        }
      ]
    },
    {
      "cell_type": "code",
      "source": [
        "def preprocessing2(path):\n",
        "  image_data = ImageDataGenerator(preprocessing_function=preprocess_input)  # preprocess_input is from the same pre-processing steps taking place from MObilNet Architecture\n",
        "  image = image_data.flow_from_directory(directory=path, target_size=(150,150),\n",
        "                                         batch_size=16, class_mode='binary',\n",
        "                                         shuffle=False)\n",
        "  return image"
      ],
      "metadata": {
        "id": "MgdmIeCAJJOQ"
      },
      "execution_count": 46,
      "outputs": []
    },
    {
      "cell_type": "code",
      "source": [
        "test_data = preprocessing2('/content/test')\n",
        "val_data = preprocessing2('/content/val')"
      ],
      "metadata": {
        "colab": {
          "base_uri": "https://localhost:8080/"
        },
        "id": "KPqitfS9JM5v",
        "outputId": "24227b45-1e48-496f-9a98-95276b66d3c1"
      },
      "execution_count": 47,
      "outputs": [
        {
          "output_type": "stream",
          "name": "stdout",
          "text": [
            "Found 37 images belonging to 2 classes.\n",
            "Found 37 images belonging to 2 classes.\n"
          ]
        }
      ]
    },
    {
      "cell_type": "code",
      "source": [
        "base_model = MobileNet(input_shape=(150,150,3), include_top=False)"
      ],
      "metadata": {
        "colab": {
          "base_uri": "https://localhost:8080/"
        },
        "id": "tmBWDaQaKPpJ",
        "outputId": "9a5d8a9a-c58b-494c-a711-177f9594fe82"
      },
      "execution_count": 48,
      "outputs": [
        {
          "output_type": "stream",
          "name": "stdout",
          "text": [
            "WARNING:tensorflow:`input_shape` is undefined or non-square, or `rows` is not in [128, 160, 192, 224]. Weights for input shape (224, 224) will be loaded as the default.\n",
            "Downloading data from https://storage.googleapis.com/tensorflow/keras-applications/mobilenet/mobilenet_1_0_224_tf_no_top.h5\n",
            "17227776/17225924 [==============================] - 0s 0us/step\n",
            "17235968/17225924 [==============================] - 0s 0us/step\n"
          ]
        }
      ]
    },
    {
      "cell_type": "code",
      "source": [
        "# to make sure we won't re-train the model again\n",
        "for layer in base_model.layers:\n",
        "  layer.trainable = False"
      ],
      "metadata": {
        "id": "zlAMr8N4KntO"
      },
      "execution_count": 49,
      "outputs": []
    },
    {
      "cell_type": "code",
      "source": [
        "base_model.summary()"
      ],
      "metadata": {
        "colab": {
          "base_uri": "https://localhost:8080/"
        },
        "id": "BaHLlb2eK7WH",
        "outputId": "a5cc5475-3a8f-463d-a263-0caece7c7514"
      },
      "execution_count": 50,
      "outputs": [
        {
          "output_type": "stream",
          "name": "stdout",
          "text": [
            "Model: \"mobilenet_1.00_224\"\n",
            "_________________________________________________________________\n",
            " Layer (type)                Output Shape              Param #   \n",
            "=================================================================\n",
            " input_1 (InputLayer)        [(None, 150, 150, 3)]     0         \n",
            "                                                                 \n",
            " conv1 (Conv2D)              (None, 75, 75, 32)        864       \n",
            "                                                                 \n",
            " conv1_bn (BatchNormalizatio  (None, 75, 75, 32)       128       \n",
            " n)                                                              \n",
            "                                                                 \n",
            " conv1_relu (ReLU)           (None, 75, 75, 32)        0         \n",
            "                                                                 \n",
            " conv_dw_1 (DepthwiseConv2D)  (None, 75, 75, 32)       288       \n",
            "                                                                 \n",
            " conv_dw_1_bn (BatchNormaliz  (None, 75, 75, 32)       128       \n",
            " ation)                                                          \n",
            "                                                                 \n",
            " conv_dw_1_relu (ReLU)       (None, 75, 75, 32)        0         \n",
            "                                                                 \n",
            " conv_pw_1 (Conv2D)          (None, 75, 75, 64)        2048      \n",
            "                                                                 \n",
            " conv_pw_1_bn (BatchNormaliz  (None, 75, 75, 64)       256       \n",
            " ation)                                                          \n",
            "                                                                 \n",
            " conv_pw_1_relu (ReLU)       (None, 75, 75, 64)        0         \n",
            "                                                                 \n",
            " conv_pad_2 (ZeroPadding2D)  (None, 76, 76, 64)        0         \n",
            "                                                                 \n",
            " conv_dw_2 (DepthwiseConv2D)  (None, 37, 37, 64)       576       \n",
            "                                                                 \n",
            " conv_dw_2_bn (BatchNormaliz  (None, 37, 37, 64)       256       \n",
            " ation)                                                          \n",
            "                                                                 \n",
            " conv_dw_2_relu (ReLU)       (None, 37, 37, 64)        0         \n",
            "                                                                 \n",
            " conv_pw_2 (Conv2D)          (None, 37, 37, 128)       8192      \n",
            "                                                                 \n",
            " conv_pw_2_bn (BatchNormaliz  (None, 37, 37, 128)      512       \n",
            " ation)                                                          \n",
            "                                                                 \n",
            " conv_pw_2_relu (ReLU)       (None, 37, 37, 128)       0         \n",
            "                                                                 \n",
            " conv_dw_3 (DepthwiseConv2D)  (None, 37, 37, 128)      1152      \n",
            "                                                                 \n",
            " conv_dw_3_bn (BatchNormaliz  (None, 37, 37, 128)      512       \n",
            " ation)                                                          \n",
            "                                                                 \n",
            " conv_dw_3_relu (ReLU)       (None, 37, 37, 128)       0         \n",
            "                                                                 \n",
            " conv_pw_3 (Conv2D)          (None, 37, 37, 128)       16384     \n",
            "                                                                 \n",
            " conv_pw_3_bn (BatchNormaliz  (None, 37, 37, 128)      512       \n",
            " ation)                                                          \n",
            "                                                                 \n",
            " conv_pw_3_relu (ReLU)       (None, 37, 37, 128)       0         \n",
            "                                                                 \n",
            " conv_pad_4 (ZeroPadding2D)  (None, 38, 38, 128)       0         \n",
            "                                                                 \n",
            " conv_dw_4 (DepthwiseConv2D)  (None, 18, 18, 128)      1152      \n",
            "                                                                 \n",
            " conv_dw_4_bn (BatchNormaliz  (None, 18, 18, 128)      512       \n",
            " ation)                                                          \n",
            "                                                                 \n",
            " conv_dw_4_relu (ReLU)       (None, 18, 18, 128)       0         \n",
            "                                                                 \n",
            " conv_pw_4 (Conv2D)          (None, 18, 18, 256)       32768     \n",
            "                                                                 \n",
            " conv_pw_4_bn (BatchNormaliz  (None, 18, 18, 256)      1024      \n",
            " ation)                                                          \n",
            "                                                                 \n",
            " conv_pw_4_relu (ReLU)       (None, 18, 18, 256)       0         \n",
            "                                                                 \n",
            " conv_dw_5 (DepthwiseConv2D)  (None, 18, 18, 256)      2304      \n",
            "                                                                 \n",
            " conv_dw_5_bn (BatchNormaliz  (None, 18, 18, 256)      1024      \n",
            " ation)                                                          \n",
            "                                                                 \n",
            " conv_dw_5_relu (ReLU)       (None, 18, 18, 256)       0         \n",
            "                                                                 \n",
            " conv_pw_5 (Conv2D)          (None, 18, 18, 256)       65536     \n",
            "                                                                 \n",
            " conv_pw_5_bn (BatchNormaliz  (None, 18, 18, 256)      1024      \n",
            " ation)                                                          \n",
            "                                                                 \n",
            " conv_pw_5_relu (ReLU)       (None, 18, 18, 256)       0         \n",
            "                                                                 \n",
            " conv_pad_6 (ZeroPadding2D)  (None, 19, 19, 256)       0         \n",
            "                                                                 \n",
            " conv_dw_6 (DepthwiseConv2D)  (None, 9, 9, 256)        2304      \n",
            "                                                                 \n",
            " conv_dw_6_bn (BatchNormaliz  (None, 9, 9, 256)        1024      \n",
            " ation)                                                          \n",
            "                                                                 \n",
            " conv_dw_6_relu (ReLU)       (None, 9, 9, 256)         0         \n",
            "                                                                 \n",
            " conv_pw_6 (Conv2D)          (None, 9, 9, 512)         131072    \n",
            "                                                                 \n",
            " conv_pw_6_bn (BatchNormaliz  (None, 9, 9, 512)        2048      \n",
            " ation)                                                          \n",
            "                                                                 \n",
            " conv_pw_6_relu (ReLU)       (None, 9, 9, 512)         0         \n",
            "                                                                 \n",
            " conv_dw_7 (DepthwiseConv2D)  (None, 9, 9, 512)        4608      \n",
            "                                                                 \n",
            " conv_dw_7_bn (BatchNormaliz  (None, 9, 9, 512)        2048      \n",
            " ation)                                                          \n",
            "                                                                 \n",
            " conv_dw_7_relu (ReLU)       (None, 9, 9, 512)         0         \n",
            "                                                                 \n",
            " conv_pw_7 (Conv2D)          (None, 9, 9, 512)         262144    \n",
            "                                                                 \n",
            " conv_pw_7_bn (BatchNormaliz  (None, 9, 9, 512)        2048      \n",
            " ation)                                                          \n",
            "                                                                 \n",
            " conv_pw_7_relu (ReLU)       (None, 9, 9, 512)         0         \n",
            "                                                                 \n",
            " conv_dw_8 (DepthwiseConv2D)  (None, 9, 9, 512)        4608      \n",
            "                                                                 \n",
            " conv_dw_8_bn (BatchNormaliz  (None, 9, 9, 512)        2048      \n",
            " ation)                                                          \n",
            "                                                                 \n",
            " conv_dw_8_relu (ReLU)       (None, 9, 9, 512)         0         \n",
            "                                                                 \n",
            " conv_pw_8 (Conv2D)          (None, 9, 9, 512)         262144    \n",
            "                                                                 \n",
            " conv_pw_8_bn (BatchNormaliz  (None, 9, 9, 512)        2048      \n",
            " ation)                                                          \n",
            "                                                                 \n",
            " conv_pw_8_relu (ReLU)       (None, 9, 9, 512)         0         \n",
            "                                                                 \n",
            " conv_dw_9 (DepthwiseConv2D)  (None, 9, 9, 512)        4608      \n",
            "                                                                 \n",
            " conv_dw_9_bn (BatchNormaliz  (None, 9, 9, 512)        2048      \n",
            " ation)                                                          \n",
            "                                                                 \n",
            " conv_dw_9_relu (ReLU)       (None, 9, 9, 512)         0         \n",
            "                                                                 \n",
            " conv_pw_9 (Conv2D)          (None, 9, 9, 512)         262144    \n",
            "                                                                 \n",
            " conv_pw_9_bn (BatchNormaliz  (None, 9, 9, 512)        2048      \n",
            " ation)                                                          \n",
            "                                                                 \n",
            " conv_pw_9_relu (ReLU)       (None, 9, 9, 512)         0         \n",
            "                                                                 \n",
            " conv_dw_10 (DepthwiseConv2D  (None, 9, 9, 512)        4608      \n",
            " )                                                               \n",
            "                                                                 \n",
            " conv_dw_10_bn (BatchNormali  (None, 9, 9, 512)        2048      \n",
            " zation)                                                         \n",
            "                                                                 \n",
            " conv_dw_10_relu (ReLU)      (None, 9, 9, 512)         0         \n",
            "                                                                 \n",
            " conv_pw_10 (Conv2D)         (None, 9, 9, 512)         262144    \n",
            "                                                                 \n",
            " conv_pw_10_bn (BatchNormali  (None, 9, 9, 512)        2048      \n",
            " zation)                                                         \n",
            "                                                                 \n",
            " conv_pw_10_relu (ReLU)      (None, 9, 9, 512)         0         \n",
            "                                                                 \n",
            " conv_dw_11 (DepthwiseConv2D  (None, 9, 9, 512)        4608      \n",
            " )                                                               \n",
            "                                                                 \n",
            " conv_dw_11_bn (BatchNormali  (None, 9, 9, 512)        2048      \n",
            " zation)                                                         \n",
            "                                                                 \n",
            " conv_dw_11_relu (ReLU)      (None, 9, 9, 512)         0         \n",
            "                                                                 \n",
            " conv_pw_11 (Conv2D)         (None, 9, 9, 512)         262144    \n",
            "                                                                 \n",
            " conv_pw_11_bn (BatchNormali  (None, 9, 9, 512)        2048      \n",
            " zation)                                                         \n",
            "                                                                 \n",
            " conv_pw_11_relu (ReLU)      (None, 9, 9, 512)         0         \n",
            "                                                                 \n",
            " conv_pad_12 (ZeroPadding2D)  (None, 10, 10, 512)      0         \n",
            "                                                                 \n",
            " conv_dw_12 (DepthwiseConv2D  (None, 4, 4, 512)        4608      \n",
            " )                                                               \n",
            "                                                                 \n",
            " conv_dw_12_bn (BatchNormali  (None, 4, 4, 512)        2048      \n",
            " zation)                                                         \n",
            "                                                                 \n",
            " conv_dw_12_relu (ReLU)      (None, 4, 4, 512)         0         \n",
            "                                                                 \n",
            " conv_pw_12 (Conv2D)         (None, 4, 4, 1024)        524288    \n",
            "                                                                 \n",
            " conv_pw_12_bn (BatchNormali  (None, 4, 4, 1024)       4096      \n",
            " zation)                                                         \n",
            "                                                                 \n",
            " conv_pw_12_relu (ReLU)      (None, 4, 4, 1024)        0         \n",
            "                                                                 \n",
            " conv_dw_13 (DepthwiseConv2D  (None, 4, 4, 1024)       9216      \n",
            " )                                                               \n",
            "                                                                 \n",
            " conv_dw_13_bn (BatchNormali  (None, 4, 4, 1024)       4096      \n",
            " zation)                                                         \n",
            "                                                                 \n",
            " conv_dw_13_relu (ReLU)      (None, 4, 4, 1024)        0         \n",
            "                                                                 \n",
            " conv_pw_13 (Conv2D)         (None, 4, 4, 1024)        1048576   \n",
            "                                                                 \n",
            " conv_pw_13_bn (BatchNormali  (None, 4, 4, 1024)       4096      \n",
            " zation)                                                         \n",
            "                                                                 \n",
            " conv_pw_13_relu (ReLU)      (None, 4, 4, 1024)        0         \n",
            "                                                                 \n",
            "=================================================================\n",
            "Total params: 3,228,864\n",
            "Trainable params: 0\n",
            "Non-trainable params: 3,228,864\n",
            "_________________________________________________________________\n"
          ]
        }
      ]
    },
    {
      "cell_type": "code",
      "source": [
        "# club the pre-trained model with our custom model\n",
        "X =Flatten()(base_model.output)  # last layer in base_model\n",
        "X = Dense(units=1, activation='sigmoid')(X)"
      ],
      "metadata": {
        "id": "5lol-9p9K94s"
      },
      "execution_count": 51,
      "outputs": []
    },
    {
      "cell_type": "code",
      "source": [
        "tf_model = Model(base_model.input, X)"
      ],
      "metadata": {
        "id": "cymKVOd5LP-r"
      },
      "execution_count": 52,
      "outputs": []
    },
    {
      "cell_type": "code",
      "source": [
        "tf_model.summary()"
      ],
      "metadata": {
        "colab": {
          "base_uri": "https://localhost:8080/"
        },
        "id": "f-p9TbQuLeLr",
        "outputId": "266267e4-3171-41d8-a1d9-67b18afd8da1"
      },
      "execution_count": 53,
      "outputs": [
        {
          "output_type": "stream",
          "name": "stdout",
          "text": [
            "Model: \"model\"\n",
            "_________________________________________________________________\n",
            " Layer (type)                Output Shape              Param #   \n",
            "=================================================================\n",
            " input_1 (InputLayer)        [(None, 150, 150, 3)]     0         \n",
            "                                                                 \n",
            " conv1 (Conv2D)              (None, 75, 75, 32)        864       \n",
            "                                                                 \n",
            " conv1_bn (BatchNormalizatio  (None, 75, 75, 32)       128       \n",
            " n)                                                              \n",
            "                                                                 \n",
            " conv1_relu (ReLU)           (None, 75, 75, 32)        0         \n",
            "                                                                 \n",
            " conv_dw_1 (DepthwiseConv2D)  (None, 75, 75, 32)       288       \n",
            "                                                                 \n",
            " conv_dw_1_bn (BatchNormaliz  (None, 75, 75, 32)       128       \n",
            " ation)                                                          \n",
            "                                                                 \n",
            " conv_dw_1_relu (ReLU)       (None, 75, 75, 32)        0         \n",
            "                                                                 \n",
            " conv_pw_1 (Conv2D)          (None, 75, 75, 64)        2048      \n",
            "                                                                 \n",
            " conv_pw_1_bn (BatchNormaliz  (None, 75, 75, 64)       256       \n",
            " ation)                                                          \n",
            "                                                                 \n",
            " conv_pw_1_relu (ReLU)       (None, 75, 75, 64)        0         \n",
            "                                                                 \n",
            " conv_pad_2 (ZeroPadding2D)  (None, 76, 76, 64)        0         \n",
            "                                                                 \n",
            " conv_dw_2 (DepthwiseConv2D)  (None, 37, 37, 64)       576       \n",
            "                                                                 \n",
            " conv_dw_2_bn (BatchNormaliz  (None, 37, 37, 64)       256       \n",
            " ation)                                                          \n",
            "                                                                 \n",
            " conv_dw_2_relu (ReLU)       (None, 37, 37, 64)        0         \n",
            "                                                                 \n",
            " conv_pw_2 (Conv2D)          (None, 37, 37, 128)       8192      \n",
            "                                                                 \n",
            " conv_pw_2_bn (BatchNormaliz  (None, 37, 37, 128)      512       \n",
            " ation)                                                          \n",
            "                                                                 \n",
            " conv_pw_2_relu (ReLU)       (None, 37, 37, 128)       0         \n",
            "                                                                 \n",
            " conv_dw_3 (DepthwiseConv2D)  (None, 37, 37, 128)      1152      \n",
            "                                                                 \n",
            " conv_dw_3_bn (BatchNormaliz  (None, 37, 37, 128)      512       \n",
            " ation)                                                          \n",
            "                                                                 \n",
            " conv_dw_3_relu (ReLU)       (None, 37, 37, 128)       0         \n",
            "                                                                 \n",
            " conv_pw_3 (Conv2D)          (None, 37, 37, 128)       16384     \n",
            "                                                                 \n",
            " conv_pw_3_bn (BatchNormaliz  (None, 37, 37, 128)      512       \n",
            " ation)                                                          \n",
            "                                                                 \n",
            " conv_pw_3_relu (ReLU)       (None, 37, 37, 128)       0         \n",
            "                                                                 \n",
            " conv_pad_4 (ZeroPadding2D)  (None, 38, 38, 128)       0         \n",
            "                                                                 \n",
            " conv_dw_4 (DepthwiseConv2D)  (None, 18, 18, 128)      1152      \n",
            "                                                                 \n",
            " conv_dw_4_bn (BatchNormaliz  (None, 18, 18, 128)      512       \n",
            " ation)                                                          \n",
            "                                                                 \n",
            " conv_dw_4_relu (ReLU)       (None, 18, 18, 128)       0         \n",
            "                                                                 \n",
            " conv_pw_4 (Conv2D)          (None, 18, 18, 256)       32768     \n",
            "                                                                 \n",
            " conv_pw_4_bn (BatchNormaliz  (None, 18, 18, 256)      1024      \n",
            " ation)                                                          \n",
            "                                                                 \n",
            " conv_pw_4_relu (ReLU)       (None, 18, 18, 256)       0         \n",
            "                                                                 \n",
            " conv_dw_5 (DepthwiseConv2D)  (None, 18, 18, 256)      2304      \n",
            "                                                                 \n",
            " conv_dw_5_bn (BatchNormaliz  (None, 18, 18, 256)      1024      \n",
            " ation)                                                          \n",
            "                                                                 \n",
            " conv_dw_5_relu (ReLU)       (None, 18, 18, 256)       0         \n",
            "                                                                 \n",
            " conv_pw_5 (Conv2D)          (None, 18, 18, 256)       65536     \n",
            "                                                                 \n",
            " conv_pw_5_bn (BatchNormaliz  (None, 18, 18, 256)      1024      \n",
            " ation)                                                          \n",
            "                                                                 \n",
            " conv_pw_5_relu (ReLU)       (None, 18, 18, 256)       0         \n",
            "                                                                 \n",
            " conv_pad_6 (ZeroPadding2D)  (None, 19, 19, 256)       0         \n",
            "                                                                 \n",
            " conv_dw_6 (DepthwiseConv2D)  (None, 9, 9, 256)        2304      \n",
            "                                                                 \n",
            " conv_dw_6_bn (BatchNormaliz  (None, 9, 9, 256)        1024      \n",
            " ation)                                                          \n",
            "                                                                 \n",
            " conv_dw_6_relu (ReLU)       (None, 9, 9, 256)         0         \n",
            "                                                                 \n",
            " conv_pw_6 (Conv2D)          (None, 9, 9, 512)         131072    \n",
            "                                                                 \n",
            " conv_pw_6_bn (BatchNormaliz  (None, 9, 9, 512)        2048      \n",
            " ation)                                                          \n",
            "                                                                 \n",
            " conv_pw_6_relu (ReLU)       (None, 9, 9, 512)         0         \n",
            "                                                                 \n",
            " conv_dw_7 (DepthwiseConv2D)  (None, 9, 9, 512)        4608      \n",
            "                                                                 \n",
            " conv_dw_7_bn (BatchNormaliz  (None, 9, 9, 512)        2048      \n",
            " ation)                                                          \n",
            "                                                                 \n",
            " conv_dw_7_relu (ReLU)       (None, 9, 9, 512)         0         \n",
            "                                                                 \n",
            " conv_pw_7 (Conv2D)          (None, 9, 9, 512)         262144    \n",
            "                                                                 \n",
            " conv_pw_7_bn (BatchNormaliz  (None, 9, 9, 512)        2048      \n",
            " ation)                                                          \n",
            "                                                                 \n",
            " conv_pw_7_relu (ReLU)       (None, 9, 9, 512)         0         \n",
            "                                                                 \n",
            " conv_dw_8 (DepthwiseConv2D)  (None, 9, 9, 512)        4608      \n",
            "                                                                 \n",
            " conv_dw_8_bn (BatchNormaliz  (None, 9, 9, 512)        2048      \n",
            " ation)                                                          \n",
            "                                                                 \n",
            " conv_dw_8_relu (ReLU)       (None, 9, 9, 512)         0         \n",
            "                                                                 \n",
            " conv_pw_8 (Conv2D)          (None, 9, 9, 512)         262144    \n",
            "                                                                 \n",
            " conv_pw_8_bn (BatchNormaliz  (None, 9, 9, 512)        2048      \n",
            " ation)                                                          \n",
            "                                                                 \n",
            " conv_pw_8_relu (ReLU)       (None, 9, 9, 512)         0         \n",
            "                                                                 \n",
            " conv_dw_9 (DepthwiseConv2D)  (None, 9, 9, 512)        4608      \n",
            "                                                                 \n",
            " conv_dw_9_bn (BatchNormaliz  (None, 9, 9, 512)        2048      \n",
            " ation)                                                          \n",
            "                                                                 \n",
            " conv_dw_9_relu (ReLU)       (None, 9, 9, 512)         0         \n",
            "                                                                 \n",
            " conv_pw_9 (Conv2D)          (None, 9, 9, 512)         262144    \n",
            "                                                                 \n",
            " conv_pw_9_bn (BatchNormaliz  (None, 9, 9, 512)        2048      \n",
            " ation)                                                          \n",
            "                                                                 \n",
            " conv_pw_9_relu (ReLU)       (None, 9, 9, 512)         0         \n",
            "                                                                 \n",
            " conv_dw_10 (DepthwiseConv2D  (None, 9, 9, 512)        4608      \n",
            " )                                                               \n",
            "                                                                 \n",
            " conv_dw_10_bn (BatchNormali  (None, 9, 9, 512)        2048      \n",
            " zation)                                                         \n",
            "                                                                 \n",
            " conv_dw_10_relu (ReLU)      (None, 9, 9, 512)         0         \n",
            "                                                                 \n",
            " conv_pw_10 (Conv2D)         (None, 9, 9, 512)         262144    \n",
            "                                                                 \n",
            " conv_pw_10_bn (BatchNormali  (None, 9, 9, 512)        2048      \n",
            " zation)                                                         \n",
            "                                                                 \n",
            " conv_pw_10_relu (ReLU)      (None, 9, 9, 512)         0         \n",
            "                                                                 \n",
            " conv_dw_11 (DepthwiseConv2D  (None, 9, 9, 512)        4608      \n",
            " )                                                               \n",
            "                                                                 \n",
            " conv_dw_11_bn (BatchNormali  (None, 9, 9, 512)        2048      \n",
            " zation)                                                         \n",
            "                                                                 \n",
            " conv_dw_11_relu (ReLU)      (None, 9, 9, 512)         0         \n",
            "                                                                 \n",
            " conv_pw_11 (Conv2D)         (None, 9, 9, 512)         262144    \n",
            "                                                                 \n",
            " conv_pw_11_bn (BatchNormali  (None, 9, 9, 512)        2048      \n",
            " zation)                                                         \n",
            "                                                                 \n",
            " conv_pw_11_relu (ReLU)      (None, 9, 9, 512)         0         \n",
            "                                                                 \n",
            " conv_pad_12 (ZeroPadding2D)  (None, 10, 10, 512)      0         \n",
            "                                                                 \n",
            " conv_dw_12 (DepthwiseConv2D  (None, 4, 4, 512)        4608      \n",
            " )                                                               \n",
            "                                                                 \n",
            " conv_dw_12_bn (BatchNormali  (None, 4, 4, 512)        2048      \n",
            " zation)                                                         \n",
            "                                                                 \n",
            " conv_dw_12_relu (ReLU)      (None, 4, 4, 512)         0         \n",
            "                                                                 \n",
            " conv_pw_12 (Conv2D)         (None, 4, 4, 1024)        524288    \n",
            "                                                                 \n",
            " conv_pw_12_bn (BatchNormali  (None, 4, 4, 1024)       4096      \n",
            " zation)                                                         \n",
            "                                                                 \n",
            " conv_pw_12_relu (ReLU)      (None, 4, 4, 1024)        0         \n",
            "                                                                 \n",
            " conv_dw_13 (DepthwiseConv2D  (None, 4, 4, 1024)       9216      \n",
            " )                                                               \n",
            "                                                                 \n",
            " conv_dw_13_bn (BatchNormali  (None, 4, 4, 1024)       4096      \n",
            " zation)                                                         \n",
            "                                                                 \n",
            " conv_dw_13_relu (ReLU)      (None, 4, 4, 1024)        0         \n",
            "                                                                 \n",
            " conv_pw_13 (Conv2D)         (None, 4, 4, 1024)        1048576   \n",
            "                                                                 \n",
            " conv_pw_13_bn (BatchNormali  (None, 4, 4, 1024)       4096      \n",
            " zation)                                                         \n",
            "                                                                 \n",
            " conv_pw_13_relu (ReLU)      (None, 4, 4, 1024)        0         \n",
            "                                                                 \n",
            " flatten_1 (Flatten)         (None, 16384)             0         \n",
            "                                                                 \n",
            " dense_2 (Dense)             (None, 1)                 16385     \n",
            "                                                                 \n",
            "=================================================================\n",
            "Total params: 3,245,249\n",
            "Trainable params: 16,385\n",
            "Non-trainable params: 3,228,864\n",
            "_________________________________________________________________\n"
          ]
        }
      ]
    },
    {
      "cell_type": "code",
      "source": [
        "tf_model.compile(optimizer='rmsprop', loss='binary_crossentropy', metrics=['accuracy'])"
      ],
      "metadata": {
        "id": "hgDFwiLHLhD1"
      },
      "execution_count": 54,
      "outputs": []
    },
    {
      "cell_type": "code",
      "source": [
        "early_stop = EarlyStopping(monitor='val_loss', patience=5)\n",
        "mc = ModelCheckpoint(monitor='val_loss', filepath='./bestmodel2.h5',save_best_only=True, mode='auto')\n",
        "\n",
        "cb = [early_stop,mc]"
      ],
      "metadata": {
        "id": "gifhUFSLLpvY"
      },
      "execution_count": 55,
      "outputs": []
    },
    {
      "cell_type": "markdown",
      "source": [
        "Training the model"
      ],
      "metadata": {
        "id": "2Iq4gza0n-zu"
      }
    },
    {
      "cell_type": "code",
      "source": [
        "result_tf = tf_model.fit(train_data, \n",
        "                          steps_per_epoch=8,\n",
        "                         epochs=30, \n",
        "                         validation_data=val_data, \n",
        "                         callbacks=cb)"
      ],
      "metadata": {
        "colab": {
          "base_uri": "https://localhost:8080/"
        },
        "id": "A1T4Wx9vL1GD",
        "outputId": "759bcacb-f62b-419c-c777-1011f90a26b2"
      },
      "execution_count": 56,
      "outputs": [
        {
          "output_type": "stream",
          "name": "stdout",
          "text": [
            "Epoch 1/30\n",
            "8/8 [==============================] - 5s 341ms/step - loss: 3.6391 - accuracy: 0.5547 - val_loss: 0.2529 - val_accuracy: 0.8919\n",
            "Epoch 2/30\n",
            "8/8 [==============================] - 1s 184ms/step - loss: 0.5020 - accuracy: 0.9062 - val_loss: 0.3607 - val_accuracy: 0.8649\n",
            "Epoch 3/30\n",
            "8/8 [==============================] - 1s 183ms/step - loss: 0.7819 - accuracy: 0.7969 - val_loss: 0.6210 - val_accuracy: 0.8378\n",
            "Epoch 4/30\n",
            "8/8 [==============================] - 2s 214ms/step - loss: 0.8252 - accuracy: 0.8047 - val_loss: 0.0643 - val_accuracy: 1.0000\n",
            "Epoch 5/30\n",
            "8/8 [==============================] - 1s 184ms/step - loss: 0.4324 - accuracy: 0.9141 - val_loss: 3.2197 - val_accuracy: 0.5135\n",
            "Epoch 6/30\n",
            "8/8 [==============================] - 1s 184ms/step - loss: 0.7002 - accuracy: 0.8594 - val_loss: 0.0832 - val_accuracy: 0.9459\n",
            "Epoch 7/30\n",
            "8/8 [==============================] - 1s 184ms/step - loss: 0.3204 - accuracy: 0.9219 - val_loss: 0.8092 - val_accuracy: 0.8378\n",
            "Epoch 8/30\n",
            "8/8 [==============================] - 2s 219ms/step - loss: 0.4355 - accuracy: 0.8672 - val_loss: 0.0428 - val_accuracy: 1.0000\n",
            "Epoch 9/30\n",
            "8/8 [==============================] - 1s 181ms/step - loss: 0.1635 - accuracy: 0.9453 - val_loss: 0.7788 - val_accuracy: 0.8378\n",
            "Epoch 10/30\n",
            "8/8 [==============================] - 1s 186ms/step - loss: 0.1434 - accuracy: 0.9688 - val_loss: 0.6218 - val_accuracy: 0.8378\n",
            "Epoch 11/30\n",
            "8/8 [==============================] - 1s 185ms/step - loss: 0.4199 - accuracy: 0.8828 - val_loss: 0.2980 - val_accuracy: 0.8649\n",
            "Epoch 12/30\n",
            "8/8 [==============================] - 1s 184ms/step - loss: 0.0864 - accuracy: 0.9609 - val_loss: 0.2827 - val_accuracy: 0.8649\n",
            "Epoch 13/30\n",
            "8/8 [==============================] - 1s 184ms/step - loss: 0.0894 - accuracy: 0.9609 - val_loss: 0.1013 - val_accuracy: 0.9730\n"
          ]
        }
      ]
    },
    {
      "cell_type": "code",
      "source": [
        "best_model_2 = load_model('/content/bestmodel2.h5')"
      ],
      "metadata": {
        "id": "4dtYl8LFMalV"
      },
      "execution_count": 57,
      "outputs": []
    },
    {
      "cell_type": "code",
      "source": [
        "result_df = pd.DataFrame(tf_model.history.history)\n",
        "result_df"
      ],
      "metadata": {
        "colab": {
          "base_uri": "https://localhost:8080/",
          "height": 457
        },
        "id": "1d3l4kUENJ-N",
        "outputId": "037c449c-d035-46c1-ac47-eb9ebaacbab6"
      },
      "execution_count": 58,
      "outputs": [
        {
          "output_type": "execute_result",
          "data": {
            "text/plain": [
              "        loss  accuracy  val_loss  val_accuracy\n",
              "0   3.639111  0.554688  0.252893      0.891892\n",
              "1   0.502042  0.906250  0.360665      0.864865\n",
              "2   0.781868  0.796875  0.621027      0.837838\n",
              "3   0.825236  0.804688  0.064265      1.000000\n",
              "4   0.432395  0.914062  3.219737      0.513514\n",
              "5   0.700153  0.859375  0.083221      0.945946\n",
              "6   0.320386  0.921875  0.809218      0.837838\n",
              "7   0.435511  0.867188  0.042800      1.000000\n",
              "8   0.163516  0.945312  0.778820      0.837838\n",
              "9   0.143357  0.968750  0.621828      0.837838\n",
              "10  0.419877  0.882812  0.298023      0.864865\n",
              "11  0.086401  0.960938  0.282710      0.864865\n",
              "12  0.089391  0.960938  0.101289      0.972973"
            ],
            "text/html": [
              "\n",
              "  <div id=\"df-8a630abb-68c9-4dba-9fda-a48b15959619\">\n",
              "    <div class=\"colab-df-container\">\n",
              "      <div>\n",
              "<style scoped>\n",
              "    .dataframe tbody tr th:only-of-type {\n",
              "        vertical-align: middle;\n",
              "    }\n",
              "\n",
              "    .dataframe tbody tr th {\n",
              "        vertical-align: top;\n",
              "    }\n",
              "\n",
              "    .dataframe thead th {\n",
              "        text-align: right;\n",
              "    }\n",
              "</style>\n",
              "<table border=\"1\" class=\"dataframe\">\n",
              "  <thead>\n",
              "    <tr style=\"text-align: right;\">\n",
              "      <th></th>\n",
              "      <th>loss</th>\n",
              "      <th>accuracy</th>\n",
              "      <th>val_loss</th>\n",
              "      <th>val_accuracy</th>\n",
              "    </tr>\n",
              "  </thead>\n",
              "  <tbody>\n",
              "    <tr>\n",
              "      <th>0</th>\n",
              "      <td>3.639111</td>\n",
              "      <td>0.554688</td>\n",
              "      <td>0.252893</td>\n",
              "      <td>0.891892</td>\n",
              "    </tr>\n",
              "    <tr>\n",
              "      <th>1</th>\n",
              "      <td>0.502042</td>\n",
              "      <td>0.906250</td>\n",
              "      <td>0.360665</td>\n",
              "      <td>0.864865</td>\n",
              "    </tr>\n",
              "    <tr>\n",
              "      <th>2</th>\n",
              "      <td>0.781868</td>\n",
              "      <td>0.796875</td>\n",
              "      <td>0.621027</td>\n",
              "      <td>0.837838</td>\n",
              "    </tr>\n",
              "    <tr>\n",
              "      <th>3</th>\n",
              "      <td>0.825236</td>\n",
              "      <td>0.804688</td>\n",
              "      <td>0.064265</td>\n",
              "      <td>1.000000</td>\n",
              "    </tr>\n",
              "    <tr>\n",
              "      <th>4</th>\n",
              "      <td>0.432395</td>\n",
              "      <td>0.914062</td>\n",
              "      <td>3.219737</td>\n",
              "      <td>0.513514</td>\n",
              "    </tr>\n",
              "    <tr>\n",
              "      <th>5</th>\n",
              "      <td>0.700153</td>\n",
              "      <td>0.859375</td>\n",
              "      <td>0.083221</td>\n",
              "      <td>0.945946</td>\n",
              "    </tr>\n",
              "    <tr>\n",
              "      <th>6</th>\n",
              "      <td>0.320386</td>\n",
              "      <td>0.921875</td>\n",
              "      <td>0.809218</td>\n",
              "      <td>0.837838</td>\n",
              "    </tr>\n",
              "    <tr>\n",
              "      <th>7</th>\n",
              "      <td>0.435511</td>\n",
              "      <td>0.867188</td>\n",
              "      <td>0.042800</td>\n",
              "      <td>1.000000</td>\n",
              "    </tr>\n",
              "    <tr>\n",
              "      <th>8</th>\n",
              "      <td>0.163516</td>\n",
              "      <td>0.945312</td>\n",
              "      <td>0.778820</td>\n",
              "      <td>0.837838</td>\n",
              "    </tr>\n",
              "    <tr>\n",
              "      <th>9</th>\n",
              "      <td>0.143357</td>\n",
              "      <td>0.968750</td>\n",
              "      <td>0.621828</td>\n",
              "      <td>0.837838</td>\n",
              "    </tr>\n",
              "    <tr>\n",
              "      <th>10</th>\n",
              "      <td>0.419877</td>\n",
              "      <td>0.882812</td>\n",
              "      <td>0.298023</td>\n",
              "      <td>0.864865</td>\n",
              "    </tr>\n",
              "    <tr>\n",
              "      <th>11</th>\n",
              "      <td>0.086401</td>\n",
              "      <td>0.960938</td>\n",
              "      <td>0.282710</td>\n",
              "      <td>0.864865</td>\n",
              "    </tr>\n",
              "    <tr>\n",
              "      <th>12</th>\n",
              "      <td>0.089391</td>\n",
              "      <td>0.960938</td>\n",
              "      <td>0.101289</td>\n",
              "      <td>0.972973</td>\n",
              "    </tr>\n",
              "  </tbody>\n",
              "</table>\n",
              "</div>\n",
              "      <button class=\"colab-df-convert\" onclick=\"convertToInteractive('df-8a630abb-68c9-4dba-9fda-a48b15959619')\"\n",
              "              title=\"Convert this dataframe to an interactive table.\"\n",
              "              style=\"display:none;\">\n",
              "        \n",
              "  <svg xmlns=\"http://www.w3.org/2000/svg\" height=\"24px\"viewBox=\"0 0 24 24\"\n",
              "       width=\"24px\">\n",
              "    <path d=\"M0 0h24v24H0V0z\" fill=\"none\"/>\n",
              "    <path d=\"M18.56 5.44l.94 2.06.94-2.06 2.06-.94-2.06-.94-.94-2.06-.94 2.06-2.06.94zm-11 1L8.5 8.5l.94-2.06 2.06-.94-2.06-.94L8.5 2.5l-.94 2.06-2.06.94zm10 10l.94 2.06.94-2.06 2.06-.94-2.06-.94-.94-2.06-.94 2.06-2.06.94z\"/><path d=\"M17.41 7.96l-1.37-1.37c-.4-.4-.92-.59-1.43-.59-.52 0-1.04.2-1.43.59L10.3 9.45l-7.72 7.72c-.78.78-.78 2.05 0 2.83L4 21.41c.39.39.9.59 1.41.59.51 0 1.02-.2 1.41-.59l7.78-7.78 2.81-2.81c.8-.78.8-2.07 0-2.86zM5.41 20L4 18.59l7.72-7.72 1.47 1.35L5.41 20z\"/>\n",
              "  </svg>\n",
              "      </button>\n",
              "      \n",
              "  <style>\n",
              "    .colab-df-container {\n",
              "      display:flex;\n",
              "      flex-wrap:wrap;\n",
              "      gap: 12px;\n",
              "    }\n",
              "\n",
              "    .colab-df-convert {\n",
              "      background-color: #E8F0FE;\n",
              "      border: none;\n",
              "      border-radius: 50%;\n",
              "      cursor: pointer;\n",
              "      display: none;\n",
              "      fill: #1967D2;\n",
              "      height: 32px;\n",
              "      padding: 0 0 0 0;\n",
              "      width: 32px;\n",
              "    }\n",
              "\n",
              "    .colab-df-convert:hover {\n",
              "      background-color: #E2EBFA;\n",
              "      box-shadow: 0px 1px 2px rgba(60, 64, 67, 0.3), 0px 1px 3px 1px rgba(60, 64, 67, 0.15);\n",
              "      fill: #174EA6;\n",
              "    }\n",
              "\n",
              "    [theme=dark] .colab-df-convert {\n",
              "      background-color: #3B4455;\n",
              "      fill: #D2E3FC;\n",
              "    }\n",
              "\n",
              "    [theme=dark] .colab-df-convert:hover {\n",
              "      background-color: #434B5C;\n",
              "      box-shadow: 0px 1px 3px 1px rgba(0, 0, 0, 0.15);\n",
              "      filter: drop-shadow(0px 1px 2px rgba(0, 0, 0, 0.3));\n",
              "      fill: #FFFFFF;\n",
              "    }\n",
              "  </style>\n",
              "\n",
              "      <script>\n",
              "        const buttonEl =\n",
              "          document.querySelector('#df-8a630abb-68c9-4dba-9fda-a48b15959619 button.colab-df-convert');\n",
              "        buttonEl.style.display =\n",
              "          google.colab.kernel.accessAllowed ? 'block' : 'none';\n",
              "\n",
              "        async function convertToInteractive(key) {\n",
              "          const element = document.querySelector('#df-8a630abb-68c9-4dba-9fda-a48b15959619');\n",
              "          const dataTable =\n",
              "            await google.colab.kernel.invokeFunction('convertToInteractive',\n",
              "                                                     [key], {});\n",
              "          if (!dataTable) return;\n",
              "\n",
              "          const docLinkHtml = 'Like what you see? Visit the ' +\n",
              "            '<a target=\"_blank\" href=https://colab.research.google.com/notebooks/data_table.ipynb>data table notebook</a>'\n",
              "            + ' to learn more about interactive tables.';\n",
              "          element.innerHTML = '';\n",
              "          dataTable['output_type'] = 'display_data';\n",
              "          await google.colab.output.renderOutput(dataTable, element);\n",
              "          const docLink = document.createElement('div');\n",
              "          docLink.innerHTML = docLinkHtml;\n",
              "          element.appendChild(docLink);\n",
              "        }\n",
              "      </script>\n",
              "    </div>\n",
              "  </div>\n",
              "  "
            ]
          },
          "metadata": {},
          "execution_count": 58
        }
      ]
    },
    {
      "cell_type": "code",
      "source": [
        "result_df[['val_loss','loss']].plot()"
      ],
      "metadata": {
        "colab": {
          "base_uri": "https://localhost:8080/",
          "height": 282
        },
        "id": "PeUaybkgQa3U",
        "outputId": "fd8c312f-d2f4-4150-9f96-b9005ca03a64"
      },
      "execution_count": 59,
      "outputs": [
        {
          "output_type": "execute_result",
          "data": {
            "text/plain": [
              "<matplotlib.axes._subplots.AxesSubplot at 0x7f1241702b10>"
            ]
          },
          "metadata": {},
          "execution_count": 59
        },
        {
          "output_type": "display_data",
          "data": {
            "text/plain": [
              "<Figure size 432x288 with 1 Axes>"
            ],
            "image/png": "[encoded data removed]"
          },
          "metadata": {
            "needs_background": "light"
          }
        }
      ]
    },
    {
      "cell_type": "markdown",
      "source": [
        "Model Evaluation"
      ],
      "metadata": {
        "id": "CzpI_4PzoBpH"
      }
    },
    {
      "cell_type": "code",
      "source": [
        "acc = tf_model.evaluate(test_data)[1]\n",
        "print(\"The accuracy of our model: \",acc*100,\"%\")"
      ],
      "metadata": {
        "colab": {
          "base_uri": "https://localhost:8080/"
        },
        "id": "2aoDi0aeNSu_",
        "outputId": "5202e846-dfc1-4648-c81c-f04e7941eb5f"
      },
      "execution_count": 60,
      "outputs": [
        {
          "output_type": "stream",
          "name": "stdout",
          "text": [
            "3/3 [==============================] - 0s 48ms/step - loss: 1.2961 - accuracy: 0.8378\n",
            "The accuracy of our model:  83.7837815284729 %\n"
          ]
        }
      ]
    },
    {
      "cell_type": "code",
      "source": [
        "from tensorflow.keras.preprocessing import image\n",
        "img = image.load_img('/content/test/yes/Y10.jpg', target_size=(150,150))\n",
        "img_arr = image.img_to_array(img)/255\n",
        "img_arr = np.expand_dims(img_arr, axis=0)"
      ],
      "metadata": {
        "id": "0C8KRzXVNj6j"
      },
      "execution_count": 62,
      "outputs": []
    },
    {
      "cell_type": "code",
      "source": [
        "plt.imshow(img_arr.reshape(150,150,3))\n",
        "plt.title(\"to be predicted\")"
      ],
      "metadata": {
        "colab": {
          "base_uri": "https://localhost:8080/",
          "height": 298
        },
        "id": "UNRl7I8xRAor",
        "outputId": "8f554703-bcba-4bc9-afaf-424d2475f95b"
      },
      "execution_count": 63,
      "outputs": [
        {
          "output_type": "execute_result",
          "data": {
            "text/plain": [
              "Text(0.5, 1.0, 'to be predicted')"
            ]
          },
          "metadata": {},
          "execution_count": 63
        },
        {
          "output_type": "display_data",
          "data": {
            "text/plain": [
              "<Figure size 432x288 with 1 Axes>"
            ],
            "image/png": "[encoded data removed]"
          },
          "metadata": {
            "needs_background": "light"
          }
        }
      ]
    },
    {
      "cell_type": "code",
      "source": [
        "pred = best_model_2.predict(img_arr)\n",
        "pred_classes = (pred > 0.5).astype(\"int32\")\n",
        "pred_classes"
      ],
      "metadata": {
        "colab": {
          "base_uri": "https://localhost:8080/"
        },
        "id": "XqSLqFD3RDtX",
        "outputId": "fc2b4701-c149-4963-ed8d-21fbce5a3a13"
      },
      "execution_count": 64,
      "outputs": [
        {
          "output_type": "execute_result",
          "data": {
            "text/plain": [
              "array([[1]], dtype=int32)"
            ]
          },
          "metadata": {},
          "execution_count": 64
        }
      ]
    },
    {
      "cell_type": "code",
      "source": [
        "if pred_classes == 0:\n",
        "  print(\"The image is not having a tumor\")\n",
        "elif pred_classes == 1:\n",
        "  print(\"The image is having a tumor\")\n",
        "else:\n",
        "  print(\"Not known!!!\")"
      ],
      "metadata": {
        "colab": {
          "base_uri": "https://localhost:8080/"
        },
        "id": "eovjLfGpRHyA",
        "outputId": "9b15b8f4-0627-4442-c27f-06cd13e7041d"
      },
      "execution_count": 65,
      "outputs": [
        {
          "output_type": "stream",
          "name": "stdout",
          "text": [
            "The image is having a tumor\n"
          ]
        }
      ]
    },
    {
      "cell_type": "code",
      "source": [
        "pred_total = best_model_2.predict(test_data)\n",
        "pred_classes_total = (pred_total > 0.5).astype(\"int32\")"
      ],
      "metadata": {
        "id": "S44Y0USURMh4"
      },
      "execution_count": 66,
      "outputs": []
    },
    {
      "cell_type": "code",
      "source": [
        "from sklearn.metrics import classification_report, confusion_matrix\n",
        "print(classification_report(test_data.classes, pred_classes_total))\n",
        "print(confusion_matrix(test_data.classes, pred_classes_total))"
      ],
      "metadata": {
        "colab": {
          "base_uri": "https://localhost:8080/"
        },
        "id": "_6306E2gRV8C",
        "outputId": "e3b1248c-4a58-475d-8ecd-4f898b1b273a"
      },
      "execution_count": 67,
      "outputs": [
        {
          "output_type": "stream",
          "name": "stdout",
          "text": [
            "              precision    recall  f1-score   support\n",
            "\n",
            "           0       0.79      0.79      0.79        14\n",
            "           1       0.87      0.87      0.87        23\n",
            "\n",
            "    accuracy                           0.84        37\n",
            "   macro avg       0.83      0.83      0.83        37\n",
            "weighted avg       0.84      0.84      0.84        37\n",
            "\n",
            "[[11  3]\n",
            " [ 3 20]]\n"
          ]
        }
      ]
    },
    {
      "cell_type": "markdown",
      "source": [
        "We achieved 84% accuracy using transfer leaning technique"
      ],
      "metadata": {
        "id": "bh1J7OE9Rdxs"
      }
    }
  ]
}